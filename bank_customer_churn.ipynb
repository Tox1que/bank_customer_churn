{
 "cells": [
  {
   "cell_type": "markdown",
   "metadata": {
    "toc": true
   },
   "source": [
    "<h1>Содержание<span class=\"tocSkip\"></span></h1>\n",
    "<div class=\"toc\"><ul class=\"toc-item\"><li><span><a href=\"#Подготовка-данных\" data-toc-modified-id=\"Подготовка-данных-1\"><span class=\"toc-item-num\">1&nbsp;&nbsp;</span>Подготовка данных</a></span></li><li><span><a href=\"#Исследование-задачи\" data-toc-modified-id=\"Исследование-задачи-2\"><span class=\"toc-item-num\">2&nbsp;&nbsp;</span>Исследование задачи</a></span><ul class=\"toc-item\"><li><span><a href=\"#Решающее-дерево\" data-toc-modified-id=\"Решающее-дерево-2.1\"><span class=\"toc-item-num\">2.1&nbsp;&nbsp;</span>Решающее дерево</a></span></li><li><span><a href=\"#Случайный-лес\" data-toc-modified-id=\"Случайный-лес-2.2\"><span class=\"toc-item-num\">2.2&nbsp;&nbsp;</span>Случайный лес</a></span></li><li><span><a href=\"#Логистическая-регрессия\" data-toc-modified-id=\"Логистическая-регрессия-2.3\"><span class=\"toc-item-num\">2.3&nbsp;&nbsp;</span>Логистическая регрессия</a></span></li></ul></li><li><span><a href=\"#Борьба-с-дисбалансом\" data-toc-modified-id=\"Борьба-с-дисбалансом-3\"><span class=\"toc-item-num\">3&nbsp;&nbsp;</span>Борьба с дисбалансом</a></span><ul class=\"toc-item\"><li><span><a href=\"#Увеличение-выборки\" data-toc-modified-id=\"Увеличение-выборки-3.1\"><span class=\"toc-item-num\">3.1&nbsp;&nbsp;</span>Увеличение выборки</a></span></li><li><span><a href=\"#Уменьшение-выборки\" data-toc-modified-id=\"Уменьшение-выборки-3.2\"><span class=\"toc-item-num\">3.2&nbsp;&nbsp;</span>Уменьшение выборки</a></span></li><li><span><a href=\"#Взвешивание-классов\" data-toc-modified-id=\"Взвешивание-классов-3.3\"><span class=\"toc-item-num\">3.3&nbsp;&nbsp;</span>Взвешивание классов</a></span></li><li><span><a href=\"#Изменение-порога-классификации\" data-toc-modified-id=\"Изменение-порога-классификации-3.4\"><span class=\"toc-item-num\">3.4&nbsp;&nbsp;</span>Изменение порога классификации</a></span></li></ul></li><li><span><a href=\"#Тестирование-модели\" data-toc-modified-id=\"Тестирование-модели-4\"><span class=\"toc-item-num\">4&nbsp;&nbsp;</span>Тестирование модели</a></span></li><li><span><a href=\"#Общий-вывод\" data-toc-modified-id=\"Общий-вывод-5\"><span class=\"toc-item-num\">5&nbsp;&nbsp;</span>Общий вывод</a></span></li></ul></div>"
   ]
  },
  {
   "cell_type": "markdown",
   "metadata": {},
   "source": [
    "# Отток клиентов"
   ]
  },
  {
   "cell_type": "markdown",
   "metadata": {},
   "source": [
    "Из «Бета-Банка» стали уходить клиенты. Каждый месяц. Немного, но заметно. Банковские маркетологи посчитали: сохранять текущих клиентов дешевле, чем привлекать новых.\n",
    "\n",
    "Нужно спрогнозировать, уйдёт клиент из банка в ближайшее время или нет. Вам предоставлены исторические данные о поведении клиентов и расторжении договоров с банком. \n",
    "\n",
    "Постройте модель с предельно большим значением *F1*-меры. Чтобы сдать проект успешно, нужно довести метрику до 0.59. Проверьте *F1*-меру на тестовой выборке самостоятельно.\n",
    "\n",
    "Дополнительно измеряйте *AUC-ROC*, сравнивайте её значение с *F1*-мерой.\n",
    "\n",
    "Источник данных: [https://www.kaggle.com/barelydedicated/bank-customer-churn-modeling](https://www.kaggle.com/barelydedicated/bank-customer-churn-modeling)"
   ]
  },
  {
   "cell_type": "markdown",
   "metadata": {},
   "source": [
    "## Подготовка данных"
   ]
  },
  {
   "cell_type": "code",
   "execution_count": 1,
   "metadata": {},
   "outputs": [],
   "source": [
    "# !pip install imbalanced-learn==0.8.1\n",
    "# !pip install optuna -U\n",
    "# !pip install phik -U"
   ]
  },
  {
   "cell_type": "code",
   "execution_count": 2,
   "metadata": {},
   "outputs": [],
   "source": [
    "import matplotlib.pyplot as plt\n",
    "import numpy as np\n",
    "import optuna\n",
    "import os\n",
    "import pandas as pd\n",
    "import phik\n",
    "import re\n",
    "import seaborn as sns\n",
    "\n",
    "from imblearn.over_sampling import SMOTE\n",
    "from imblearn.under_sampling import RandomUnderSampler\n",
    "from imblearn.pipeline import make_pipeline\n",
    "from sklearn.ensemble import RandomForestClassifier\n",
    "from sklearn.linear_model import LogisticRegression\n",
    "from sklearn.metrics import f1_score, roc_auc_score, roc_curve\n",
    "from sklearn.model_selection import (StratifiedKFold, cross_validate,\n",
    "                                     cross_val_score, train_test_split)\n",
    "from sklearn.preprocessing import OneHotEncoder, StandardScaler\n",
    "from sklearn.tree import DecisionTreeClassifier\n",
    "from sklearn.utils import shuffle\n",
    "from tqdm import tqdm"
   ]
  },
  {
   "cell_type": "code",
   "execution_count": 3,
   "metadata": {},
   "outputs": [],
   "source": [
    "def get_df(file_name):\n",
    "    path_to_file = os.path.relpath(os.path.join('datasets/', file_name))\n",
    "    if os.path.isfile(path_to_file):\n",
    "        return pd.read_csv(path_to_file)\n",
    "    raise Exception('Данные отсутствуют')"
   ]
  },
  {
   "cell_type": "code",
   "execution_count": 4,
   "metadata": {},
   "outputs": [],
   "source": [
    "df = get_df('Churn.csv')\n",
    "\n",
    "SEED = 12345\n",
    "\n",
    "optuna.logging.set_verbosity(optuna.logging.WARNING)\n",
    "sns.set_style('darkgrid')"
   ]
  },
  {
   "cell_type": "code",
   "execution_count": 5,
   "metadata": {},
   "outputs": [
    {
     "name": "stdout",
     "output_type": "stream",
     "text": [
      "<class 'pandas.core.frame.DataFrame'>\n",
      "RangeIndex: 10000 entries, 0 to 9999\n",
      "Data columns (total 14 columns):\n",
      " #   Column           Non-Null Count  Dtype  \n",
      "---  ------           --------------  -----  \n",
      " 0   RowNumber        10000 non-null  int64  \n",
      " 1   CustomerId       10000 non-null  int64  \n",
      " 2   Surname          10000 non-null  object \n",
      " 3   CreditScore      10000 non-null  int64  \n",
      " 4   Geography        10000 non-null  object \n",
      " 5   Gender           10000 non-null  object \n",
      " 6   Age              10000 non-null  int64  \n",
      " 7   Tenure           9091 non-null   float64\n",
      " 8   Balance          10000 non-null  float64\n",
      " 9   NumOfProducts    10000 non-null  int64  \n",
      " 10  HasCrCard        10000 non-null  int64  \n",
      " 11  IsActiveMember   10000 non-null  int64  \n",
      " 12  EstimatedSalary  10000 non-null  float64\n",
      " 13  Exited           10000 non-null  int64  \n",
      "dtypes: float64(3), int64(8), object(3)\n",
      "memory usage: 1.1+ MB\n"
     ]
    },
    {
     "data": {
      "text/html": [
       "<div>\n",
       "<style scoped>\n",
       "    .dataframe tbody tr th:only-of-type {\n",
       "        vertical-align: middle;\n",
       "    }\n",
       "\n",
       "    .dataframe tbody tr th {\n",
       "        vertical-align: top;\n",
       "    }\n",
       "\n",
       "    .dataframe thead th {\n",
       "        text-align: right;\n",
       "    }\n",
       "</style>\n",
       "<table border=\"1\" class=\"dataframe\">\n",
       "  <thead>\n",
       "    <tr style=\"text-align: right;\">\n",
       "      <th></th>\n",
       "      <th>RowNumber</th>\n",
       "      <th>CustomerId</th>\n",
       "      <th>Surname</th>\n",
       "      <th>CreditScore</th>\n",
       "      <th>Geography</th>\n",
       "      <th>Gender</th>\n",
       "      <th>Age</th>\n",
       "      <th>Tenure</th>\n",
       "      <th>Balance</th>\n",
       "      <th>NumOfProducts</th>\n",
       "      <th>HasCrCard</th>\n",
       "      <th>IsActiveMember</th>\n",
       "      <th>EstimatedSalary</th>\n",
       "      <th>Exited</th>\n",
       "    </tr>\n",
       "  </thead>\n",
       "  <tbody>\n",
       "    <tr>\n",
       "      <th>0</th>\n",
       "      <td>1</td>\n",
       "      <td>15634602</td>\n",
       "      <td>Hargrave</td>\n",
       "      <td>619</td>\n",
       "      <td>France</td>\n",
       "      <td>Female</td>\n",
       "      <td>42</td>\n",
       "      <td>2.0</td>\n",
       "      <td>0.00</td>\n",
       "      <td>1</td>\n",
       "      <td>1</td>\n",
       "      <td>1</td>\n",
       "      <td>101348.88</td>\n",
       "      <td>1</td>\n",
       "    </tr>\n",
       "    <tr>\n",
       "      <th>1</th>\n",
       "      <td>2</td>\n",
       "      <td>15647311</td>\n",
       "      <td>Hill</td>\n",
       "      <td>608</td>\n",
       "      <td>Spain</td>\n",
       "      <td>Female</td>\n",
       "      <td>41</td>\n",
       "      <td>1.0</td>\n",
       "      <td>83807.86</td>\n",
       "      <td>1</td>\n",
       "      <td>0</td>\n",
       "      <td>1</td>\n",
       "      <td>112542.58</td>\n",
       "      <td>0</td>\n",
       "    </tr>\n",
       "    <tr>\n",
       "      <th>2</th>\n",
       "      <td>3</td>\n",
       "      <td>15619304</td>\n",
       "      <td>Onio</td>\n",
       "      <td>502</td>\n",
       "      <td>France</td>\n",
       "      <td>Female</td>\n",
       "      <td>42</td>\n",
       "      <td>8.0</td>\n",
       "      <td>159660.80</td>\n",
       "      <td>3</td>\n",
       "      <td>1</td>\n",
       "      <td>0</td>\n",
       "      <td>113931.57</td>\n",
       "      <td>1</td>\n",
       "    </tr>\n",
       "    <tr>\n",
       "      <th>3</th>\n",
       "      <td>4</td>\n",
       "      <td>15701354</td>\n",
       "      <td>Boni</td>\n",
       "      <td>699</td>\n",
       "      <td>France</td>\n",
       "      <td>Female</td>\n",
       "      <td>39</td>\n",
       "      <td>1.0</td>\n",
       "      <td>0.00</td>\n",
       "      <td>2</td>\n",
       "      <td>0</td>\n",
       "      <td>0</td>\n",
       "      <td>93826.63</td>\n",
       "      <td>0</td>\n",
       "    </tr>\n",
       "    <tr>\n",
       "      <th>4</th>\n",
       "      <td>5</td>\n",
       "      <td>15737888</td>\n",
       "      <td>Mitchell</td>\n",
       "      <td>850</td>\n",
       "      <td>Spain</td>\n",
       "      <td>Female</td>\n",
       "      <td>43</td>\n",
       "      <td>2.0</td>\n",
       "      <td>125510.82</td>\n",
       "      <td>1</td>\n",
       "      <td>1</td>\n",
       "      <td>1</td>\n",
       "      <td>79084.10</td>\n",
       "      <td>0</td>\n",
       "    </tr>\n",
       "    <tr>\n",
       "      <th>5</th>\n",
       "      <td>6</td>\n",
       "      <td>15574012</td>\n",
       "      <td>Chu</td>\n",
       "      <td>645</td>\n",
       "      <td>Spain</td>\n",
       "      <td>Male</td>\n",
       "      <td>44</td>\n",
       "      <td>8.0</td>\n",
       "      <td>113755.78</td>\n",
       "      <td>2</td>\n",
       "      <td>1</td>\n",
       "      <td>0</td>\n",
       "      <td>149756.71</td>\n",
       "      <td>1</td>\n",
       "    </tr>\n",
       "    <tr>\n",
       "      <th>6</th>\n",
       "      <td>7</td>\n",
       "      <td>15592531</td>\n",
       "      <td>Bartlett</td>\n",
       "      <td>822</td>\n",
       "      <td>France</td>\n",
       "      <td>Male</td>\n",
       "      <td>50</td>\n",
       "      <td>7.0</td>\n",
       "      <td>0.00</td>\n",
       "      <td>2</td>\n",
       "      <td>1</td>\n",
       "      <td>1</td>\n",
       "      <td>10062.80</td>\n",
       "      <td>0</td>\n",
       "    </tr>\n",
       "    <tr>\n",
       "      <th>7</th>\n",
       "      <td>8</td>\n",
       "      <td>15656148</td>\n",
       "      <td>Obinna</td>\n",
       "      <td>376</td>\n",
       "      <td>Germany</td>\n",
       "      <td>Female</td>\n",
       "      <td>29</td>\n",
       "      <td>4.0</td>\n",
       "      <td>115046.74</td>\n",
       "      <td>4</td>\n",
       "      <td>1</td>\n",
       "      <td>0</td>\n",
       "      <td>119346.88</td>\n",
       "      <td>1</td>\n",
       "    </tr>\n",
       "    <tr>\n",
       "      <th>8</th>\n",
       "      <td>9</td>\n",
       "      <td>15792365</td>\n",
       "      <td>He</td>\n",
       "      <td>501</td>\n",
       "      <td>France</td>\n",
       "      <td>Male</td>\n",
       "      <td>44</td>\n",
       "      <td>4.0</td>\n",
       "      <td>142051.07</td>\n",
       "      <td>2</td>\n",
       "      <td>0</td>\n",
       "      <td>1</td>\n",
       "      <td>74940.50</td>\n",
       "      <td>0</td>\n",
       "    </tr>\n",
       "    <tr>\n",
       "      <th>9</th>\n",
       "      <td>10</td>\n",
       "      <td>15592389</td>\n",
       "      <td>H?</td>\n",
       "      <td>684</td>\n",
       "      <td>France</td>\n",
       "      <td>Male</td>\n",
       "      <td>27</td>\n",
       "      <td>2.0</td>\n",
       "      <td>134603.88</td>\n",
       "      <td>1</td>\n",
       "      <td>1</td>\n",
       "      <td>1</td>\n",
       "      <td>71725.73</td>\n",
       "      <td>0</td>\n",
       "    </tr>\n",
       "    <tr>\n",
       "      <th>10</th>\n",
       "      <td>11</td>\n",
       "      <td>15767821</td>\n",
       "      <td>Bearce</td>\n",
       "      <td>528</td>\n",
       "      <td>France</td>\n",
       "      <td>Male</td>\n",
       "      <td>31</td>\n",
       "      <td>6.0</td>\n",
       "      <td>102016.72</td>\n",
       "      <td>2</td>\n",
       "      <td>0</td>\n",
       "      <td>0</td>\n",
       "      <td>80181.12</td>\n",
       "      <td>0</td>\n",
       "    </tr>\n",
       "    <tr>\n",
       "      <th>11</th>\n",
       "      <td>12</td>\n",
       "      <td>15737173</td>\n",
       "      <td>Andrews</td>\n",
       "      <td>497</td>\n",
       "      <td>Spain</td>\n",
       "      <td>Male</td>\n",
       "      <td>24</td>\n",
       "      <td>3.0</td>\n",
       "      <td>0.00</td>\n",
       "      <td>2</td>\n",
       "      <td>1</td>\n",
       "      <td>0</td>\n",
       "      <td>76390.01</td>\n",
       "      <td>0</td>\n",
       "    </tr>\n",
       "    <tr>\n",
       "      <th>12</th>\n",
       "      <td>13</td>\n",
       "      <td>15632264</td>\n",
       "      <td>Kay</td>\n",
       "      <td>476</td>\n",
       "      <td>France</td>\n",
       "      <td>Female</td>\n",
       "      <td>34</td>\n",
       "      <td>10.0</td>\n",
       "      <td>0.00</td>\n",
       "      <td>2</td>\n",
       "      <td>1</td>\n",
       "      <td>0</td>\n",
       "      <td>26260.98</td>\n",
       "      <td>0</td>\n",
       "    </tr>\n",
       "    <tr>\n",
       "      <th>13</th>\n",
       "      <td>14</td>\n",
       "      <td>15691483</td>\n",
       "      <td>Chin</td>\n",
       "      <td>549</td>\n",
       "      <td>France</td>\n",
       "      <td>Female</td>\n",
       "      <td>25</td>\n",
       "      <td>5.0</td>\n",
       "      <td>0.00</td>\n",
       "      <td>2</td>\n",
       "      <td>0</td>\n",
       "      <td>0</td>\n",
       "      <td>190857.79</td>\n",
       "      <td>0</td>\n",
       "    </tr>\n",
       "    <tr>\n",
       "      <th>14</th>\n",
       "      <td>15</td>\n",
       "      <td>15600882</td>\n",
       "      <td>Scott</td>\n",
       "      <td>635</td>\n",
       "      <td>Spain</td>\n",
       "      <td>Female</td>\n",
       "      <td>35</td>\n",
       "      <td>7.0</td>\n",
       "      <td>0.00</td>\n",
       "      <td>2</td>\n",
       "      <td>1</td>\n",
       "      <td>1</td>\n",
       "      <td>65951.65</td>\n",
       "      <td>0</td>\n",
       "    </tr>\n",
       "    <tr>\n",
       "      <th>15</th>\n",
       "      <td>16</td>\n",
       "      <td>15643966</td>\n",
       "      <td>Goforth</td>\n",
       "      <td>616</td>\n",
       "      <td>Germany</td>\n",
       "      <td>Male</td>\n",
       "      <td>45</td>\n",
       "      <td>3.0</td>\n",
       "      <td>143129.41</td>\n",
       "      <td>2</td>\n",
       "      <td>0</td>\n",
       "      <td>1</td>\n",
       "      <td>64327.26</td>\n",
       "      <td>0</td>\n",
       "    </tr>\n",
       "    <tr>\n",
       "      <th>16</th>\n",
       "      <td>17</td>\n",
       "      <td>15737452</td>\n",
       "      <td>Romeo</td>\n",
       "      <td>653</td>\n",
       "      <td>Germany</td>\n",
       "      <td>Male</td>\n",
       "      <td>58</td>\n",
       "      <td>1.0</td>\n",
       "      <td>132602.88</td>\n",
       "      <td>1</td>\n",
       "      <td>1</td>\n",
       "      <td>0</td>\n",
       "      <td>5097.67</td>\n",
       "      <td>1</td>\n",
       "    </tr>\n",
       "    <tr>\n",
       "      <th>17</th>\n",
       "      <td>18</td>\n",
       "      <td>15788218</td>\n",
       "      <td>Henderson</td>\n",
       "      <td>549</td>\n",
       "      <td>Spain</td>\n",
       "      <td>Female</td>\n",
       "      <td>24</td>\n",
       "      <td>9.0</td>\n",
       "      <td>0.00</td>\n",
       "      <td>2</td>\n",
       "      <td>1</td>\n",
       "      <td>1</td>\n",
       "      <td>14406.41</td>\n",
       "      <td>0</td>\n",
       "    </tr>\n",
       "    <tr>\n",
       "      <th>18</th>\n",
       "      <td>19</td>\n",
       "      <td>15661507</td>\n",
       "      <td>Muldrow</td>\n",
       "      <td>587</td>\n",
       "      <td>Spain</td>\n",
       "      <td>Male</td>\n",
       "      <td>45</td>\n",
       "      <td>6.0</td>\n",
       "      <td>0.00</td>\n",
       "      <td>1</td>\n",
       "      <td>0</td>\n",
       "      <td>0</td>\n",
       "      <td>158684.81</td>\n",
       "      <td>0</td>\n",
       "    </tr>\n",
       "    <tr>\n",
       "      <th>19</th>\n",
       "      <td>20</td>\n",
       "      <td>15568982</td>\n",
       "      <td>Hao</td>\n",
       "      <td>726</td>\n",
       "      <td>France</td>\n",
       "      <td>Female</td>\n",
       "      <td>24</td>\n",
       "      <td>6.0</td>\n",
       "      <td>0.00</td>\n",
       "      <td>2</td>\n",
       "      <td>1</td>\n",
       "      <td>1</td>\n",
       "      <td>54724.03</td>\n",
       "      <td>0</td>\n",
       "    </tr>\n",
       "  </tbody>\n",
       "</table>\n",
       "</div>"
      ],
      "text/plain": [
       "    RowNumber  CustomerId    Surname  CreditScore Geography  Gender  Age  \\\n",
       "0           1    15634602   Hargrave          619    France  Female   42   \n",
       "1           2    15647311       Hill          608     Spain  Female   41   \n",
       "2           3    15619304       Onio          502    France  Female   42   \n",
       "3           4    15701354       Boni          699    France  Female   39   \n",
       "4           5    15737888   Mitchell          850     Spain  Female   43   \n",
       "5           6    15574012        Chu          645     Spain    Male   44   \n",
       "6           7    15592531   Bartlett          822    France    Male   50   \n",
       "7           8    15656148     Obinna          376   Germany  Female   29   \n",
       "8           9    15792365         He          501    France    Male   44   \n",
       "9          10    15592389         H?          684    France    Male   27   \n",
       "10         11    15767821     Bearce          528    France    Male   31   \n",
       "11         12    15737173    Andrews          497     Spain    Male   24   \n",
       "12         13    15632264        Kay          476    France  Female   34   \n",
       "13         14    15691483       Chin          549    France  Female   25   \n",
       "14         15    15600882      Scott          635     Spain  Female   35   \n",
       "15         16    15643966    Goforth          616   Germany    Male   45   \n",
       "16         17    15737452      Romeo          653   Germany    Male   58   \n",
       "17         18    15788218  Henderson          549     Spain  Female   24   \n",
       "18         19    15661507    Muldrow          587     Spain    Male   45   \n",
       "19         20    15568982        Hao          726    France  Female   24   \n",
       "\n",
       "    Tenure    Balance  NumOfProducts  HasCrCard  IsActiveMember  \\\n",
       "0      2.0       0.00              1          1               1   \n",
       "1      1.0   83807.86              1          0               1   \n",
       "2      8.0  159660.80              3          1               0   \n",
       "3      1.0       0.00              2          0               0   \n",
       "4      2.0  125510.82              1          1               1   \n",
       "5      8.0  113755.78              2          1               0   \n",
       "6      7.0       0.00              2          1               1   \n",
       "7      4.0  115046.74              4          1               0   \n",
       "8      4.0  142051.07              2          0               1   \n",
       "9      2.0  134603.88              1          1               1   \n",
       "10     6.0  102016.72              2          0               0   \n",
       "11     3.0       0.00              2          1               0   \n",
       "12    10.0       0.00              2          1               0   \n",
       "13     5.0       0.00              2          0               0   \n",
       "14     7.0       0.00              2          1               1   \n",
       "15     3.0  143129.41              2          0               1   \n",
       "16     1.0  132602.88              1          1               0   \n",
       "17     9.0       0.00              2          1               1   \n",
       "18     6.0       0.00              1          0               0   \n",
       "19     6.0       0.00              2          1               1   \n",
       "\n",
       "    EstimatedSalary  Exited  \n",
       "0         101348.88       1  \n",
       "1         112542.58       0  \n",
       "2         113931.57       1  \n",
       "3          93826.63       0  \n",
       "4          79084.10       0  \n",
       "5         149756.71       1  \n",
       "6          10062.80       0  \n",
       "7         119346.88       1  \n",
       "8          74940.50       0  \n",
       "9          71725.73       0  \n",
       "10         80181.12       0  \n",
       "11         76390.01       0  \n",
       "12         26260.98       0  \n",
       "13        190857.79       0  \n",
       "14         65951.65       0  \n",
       "15         64327.26       0  \n",
       "16          5097.67       1  \n",
       "17         14406.41       0  \n",
       "18        158684.81       0  \n",
       "19         54724.03       0  "
      ]
     },
     "execution_count": 5,
     "metadata": {},
     "output_type": "execute_result"
    }
   ],
   "source": [
    "df.info()\n",
    "df.head(20)"
   ]
  },
  {
   "cell_type": "markdown",
   "metadata": {},
   "source": [
    "В столбце `Tenure` присутствуют 909 пропусков.\n",
    "Для восстановления пропущенных значений воспользуемся оригинальным набором данных, указанным в описании проекта."
   ]
  },
  {
   "cell_type": "code",
   "execution_count": 6,
   "metadata": {},
   "outputs": [],
   "source": [
    "url = 'https://drive.google.com/uc?id=1minQi8Ymy2i5IbaWU1Szu_j0-dycDj7J'\n",
    "df_og = pd.read_csv(url)\n",
    "\n",
    "na_ids = df.loc[df['Tenure'].isna()].index"
   ]
  },
  {
   "cell_type": "code",
   "execution_count": 7,
   "metadata": {},
   "outputs": [
    {
     "data": {
      "text/plain": [
       "True"
      ]
     },
     "execution_count": 7,
     "metadata": {},
     "output_type": "execute_result"
    }
   ],
   "source": [
    "df.loc[na_ids].drop('Tenure', axis=1).equals(\n",
    "    df_og.loc[na_ids].drop('Tenure', axis=1)\n",
    ")"
   ]
  },
  {
   "cell_type": "code",
   "execution_count": 8,
   "metadata": {},
   "outputs": [],
   "source": [
    "df.loc[na_ids, 'Tenure'] = df_og.loc[na_ids, 'Tenure']\n",
    "df['Tenure'] = df['Tenure'].astype('int64')"
   ]
  },
  {
   "cell_type": "code",
   "execution_count": 9,
   "metadata": {},
   "outputs": [
    {
     "name": "stdout",
     "output_type": "stream",
     "text": [
      "<class 'pandas.core.frame.DataFrame'>\n",
      "RangeIndex: 10000 entries, 0 to 9999\n",
      "Data columns (total 14 columns):\n",
      " #   Column           Non-Null Count  Dtype  \n",
      "---  ------           --------------  -----  \n",
      " 0   RowNumber        10000 non-null  int64  \n",
      " 1   CustomerId       10000 non-null  int64  \n",
      " 2   Surname          10000 non-null  object \n",
      " 3   CreditScore      10000 non-null  int64  \n",
      " 4   Geography        10000 non-null  object \n",
      " 5   Gender           10000 non-null  object \n",
      " 6   Age              10000 non-null  int64  \n",
      " 7   Tenure           10000 non-null  int64  \n",
      " 8   Balance          10000 non-null  float64\n",
      " 9   NumOfProducts    10000 non-null  int64  \n",
      " 10  HasCrCard        10000 non-null  int64  \n",
      " 11  IsActiveMember   10000 non-null  int64  \n",
      " 12  EstimatedSalary  10000 non-null  float64\n",
      " 13  Exited           10000 non-null  int64  \n",
      "dtypes: float64(2), int64(9), object(3)\n",
      "memory usage: 1.1+ MB\n"
     ]
    },
    {
     "data": {
      "text/plain": [
       "True"
      ]
     },
     "execution_count": 9,
     "metadata": {},
     "output_type": "execute_result"
    }
   ],
   "source": [
    "df.info()\n",
    "df.equals(df_og)"
   ]
  },
  {
   "cell_type": "markdown",
   "metadata": {},
   "source": [
    "Переведём названия столбцов из `CamelCase` в `snake_case`"
   ]
  },
  {
   "cell_type": "code",
   "execution_count": 10,
   "metadata": {},
   "outputs": [],
   "source": [
    "def camel_to_snake(cols):\n",
    "    return map(lambda col: re.sub(r'(?<!^)(?=[A-Z])', '_', col).lower(), cols)"
   ]
  },
  {
   "cell_type": "code",
   "execution_count": 11,
   "metadata": {},
   "outputs": [
    {
     "data": {
      "text/html": [
       "<div>\n",
       "<style scoped>\n",
       "    .dataframe tbody tr th:only-of-type {\n",
       "        vertical-align: middle;\n",
       "    }\n",
       "\n",
       "    .dataframe tbody tr th {\n",
       "        vertical-align: top;\n",
       "    }\n",
       "\n",
       "    .dataframe thead th {\n",
       "        text-align: right;\n",
       "    }\n",
       "</style>\n",
       "<table border=\"1\" class=\"dataframe\">\n",
       "  <thead>\n",
       "    <tr style=\"text-align: right;\">\n",
       "      <th></th>\n",
       "      <th>row_number</th>\n",
       "      <th>customer_id</th>\n",
       "      <th>surname</th>\n",
       "      <th>credit_score</th>\n",
       "      <th>geography</th>\n",
       "      <th>gender</th>\n",
       "      <th>age</th>\n",
       "      <th>tenure</th>\n",
       "      <th>balance</th>\n",
       "      <th>num_of_products</th>\n",
       "      <th>has_cr_card</th>\n",
       "      <th>is_active_member</th>\n",
       "      <th>estimated_salary</th>\n",
       "      <th>exited</th>\n",
       "    </tr>\n",
       "  </thead>\n",
       "  <tbody>\n",
       "    <tr>\n",
       "      <th>2414</th>\n",
       "      <td>2415</td>\n",
       "      <td>15806027</td>\n",
       "      <td>Niu</td>\n",
       "      <td>556</td>\n",
       "      <td>France</td>\n",
       "      <td>Female</td>\n",
       "      <td>52</td>\n",
       "      <td>9</td>\n",
       "      <td>0.00</td>\n",
       "      <td>1</td>\n",
       "      <td>1</td>\n",
       "      <td>0</td>\n",
       "      <td>175149.20</td>\n",
       "      <td>1</td>\n",
       "    </tr>\n",
       "    <tr>\n",
       "      <th>4923</th>\n",
       "      <td>4924</td>\n",
       "      <td>15662658</td>\n",
       "      <td>Grieve</td>\n",
       "      <td>651</td>\n",
       "      <td>Germany</td>\n",
       "      <td>Male</td>\n",
       "      <td>34</td>\n",
       "      <td>2</td>\n",
       "      <td>90355.12</td>\n",
       "      <td>2</td>\n",
       "      <td>0</td>\n",
       "      <td>0</td>\n",
       "      <td>193597.94</td>\n",
       "      <td>0</td>\n",
       "    </tr>\n",
       "    <tr>\n",
       "      <th>4567</th>\n",
       "      <td>4568</td>\n",
       "      <td>15768530</td>\n",
       "      <td>Emery</td>\n",
       "      <td>554</td>\n",
       "      <td>Spain</td>\n",
       "      <td>Female</td>\n",
       "      <td>27</td>\n",
       "      <td>4</td>\n",
       "      <td>0.00</td>\n",
       "      <td>2</td>\n",
       "      <td>1</td>\n",
       "      <td>1</td>\n",
       "      <td>135083.73</td>\n",
       "      <td>0</td>\n",
       "    </tr>\n",
       "    <tr>\n",
       "      <th>8876</th>\n",
       "      <td>8877</td>\n",
       "      <td>15712807</td>\n",
       "      <td>Robertson</td>\n",
       "      <td>556</td>\n",
       "      <td>Spain</td>\n",
       "      <td>Male</td>\n",
       "      <td>46</td>\n",
       "      <td>3</td>\n",
       "      <td>131764.96</td>\n",
       "      <td>1</td>\n",
       "      <td>1</td>\n",
       "      <td>1</td>\n",
       "      <td>108500.66</td>\n",
       "      <td>1</td>\n",
       "    </tr>\n",
       "    <tr>\n",
       "      <th>7374</th>\n",
       "      <td>7375</td>\n",
       "      <td>15696287</td>\n",
       "      <td>Converse</td>\n",
       "      <td>682</td>\n",
       "      <td>Germany</td>\n",
       "      <td>Female</td>\n",
       "      <td>38</td>\n",
       "      <td>1</td>\n",
       "      <td>116520.28</td>\n",
       "      <td>1</td>\n",
       "      <td>1</td>\n",
       "      <td>1</td>\n",
       "      <td>49833.50</td>\n",
       "      <td>1</td>\n",
       "    </tr>\n",
       "  </tbody>\n",
       "</table>\n",
       "</div>"
      ],
      "text/plain": [
       "      row_number  customer_id    surname  credit_score geography  gender  age  \\\n",
       "2414        2415     15806027        Niu           556    France  Female   52   \n",
       "4923        4924     15662658     Grieve           651   Germany    Male   34   \n",
       "4567        4568     15768530      Emery           554     Spain  Female   27   \n",
       "8876        8877     15712807  Robertson           556     Spain    Male   46   \n",
       "7374        7375     15696287   Converse           682   Germany  Female   38   \n",
       "\n",
       "      tenure    balance  num_of_products  has_cr_card  is_active_member  \\\n",
       "2414       9       0.00                1            1                 0   \n",
       "4923       2   90355.12                2            0                 0   \n",
       "4567       4       0.00                2            1                 1   \n",
       "8876       3  131764.96                1            1                 1   \n",
       "7374       1  116520.28                1            1                 1   \n",
       "\n",
       "      estimated_salary  exited  \n",
       "2414         175149.20       1  \n",
       "4923         193597.94       0  \n",
       "4567         135083.73       0  \n",
       "8876         108500.66       1  \n",
       "7374          49833.50       1  "
      ]
     },
     "execution_count": 11,
     "metadata": {},
     "output_type": "execute_result"
    }
   ],
   "source": [
    "df.columns = camel_to_snake(df.columns)\n",
    "df.sample(5)"
   ]
  },
  {
   "cell_type": "code",
   "execution_count": 12,
   "metadata": {},
   "outputs": [
    {
     "data": {
      "text/html": [
       "<div>\n",
       "<style scoped>\n",
       "    .dataframe tbody tr th:only-of-type {\n",
       "        vertical-align: middle;\n",
       "    }\n",
       "\n",
       "    .dataframe tbody tr th {\n",
       "        vertical-align: top;\n",
       "    }\n",
       "\n",
       "    .dataframe thead th {\n",
       "        text-align: right;\n",
       "    }\n",
       "</style>\n",
       "<table border=\"1\" class=\"dataframe\">\n",
       "  <thead>\n",
       "    <tr style=\"text-align: right;\">\n",
       "      <th></th>\n",
       "      <th>row_number</th>\n",
       "      <th>customer_id</th>\n",
       "      <th>credit_score</th>\n",
       "      <th>age</th>\n",
       "      <th>tenure</th>\n",
       "      <th>balance</th>\n",
       "      <th>num_of_products</th>\n",
       "      <th>has_cr_card</th>\n",
       "      <th>is_active_member</th>\n",
       "      <th>estimated_salary</th>\n",
       "      <th>exited</th>\n",
       "    </tr>\n",
       "  </thead>\n",
       "  <tbody>\n",
       "    <tr>\n",
       "      <th>count</th>\n",
       "      <td>10000.00000</td>\n",
       "      <td>1.000000e+04</td>\n",
       "      <td>10000.000000</td>\n",
       "      <td>10000.000000</td>\n",
       "      <td>10000.000000</td>\n",
       "      <td>10000.000000</td>\n",
       "      <td>10000.000000</td>\n",
       "      <td>10000.00000</td>\n",
       "      <td>10000.000000</td>\n",
       "      <td>10000.000000</td>\n",
       "      <td>10000.000000</td>\n",
       "    </tr>\n",
       "    <tr>\n",
       "      <th>mean</th>\n",
       "      <td>5000.50000</td>\n",
       "      <td>1.569094e+07</td>\n",
       "      <td>650.528800</td>\n",
       "      <td>38.921800</td>\n",
       "      <td>5.012800</td>\n",
       "      <td>76485.889288</td>\n",
       "      <td>1.530200</td>\n",
       "      <td>0.70550</td>\n",
       "      <td>0.515100</td>\n",
       "      <td>100090.239881</td>\n",
       "      <td>0.203700</td>\n",
       "    </tr>\n",
       "    <tr>\n",
       "      <th>std</th>\n",
       "      <td>2886.89568</td>\n",
       "      <td>7.193619e+04</td>\n",
       "      <td>96.653299</td>\n",
       "      <td>10.487806</td>\n",
       "      <td>2.892174</td>\n",
       "      <td>62397.405202</td>\n",
       "      <td>0.581654</td>\n",
       "      <td>0.45584</td>\n",
       "      <td>0.499797</td>\n",
       "      <td>57510.492818</td>\n",
       "      <td>0.402769</td>\n",
       "    </tr>\n",
       "    <tr>\n",
       "      <th>min</th>\n",
       "      <td>1.00000</td>\n",
       "      <td>1.556570e+07</td>\n",
       "      <td>350.000000</td>\n",
       "      <td>18.000000</td>\n",
       "      <td>0.000000</td>\n",
       "      <td>0.000000</td>\n",
       "      <td>1.000000</td>\n",
       "      <td>0.00000</td>\n",
       "      <td>0.000000</td>\n",
       "      <td>11.580000</td>\n",
       "      <td>0.000000</td>\n",
       "    </tr>\n",
       "    <tr>\n",
       "      <th>25%</th>\n",
       "      <td>2500.75000</td>\n",
       "      <td>1.562853e+07</td>\n",
       "      <td>584.000000</td>\n",
       "      <td>32.000000</td>\n",
       "      <td>3.000000</td>\n",
       "      <td>0.000000</td>\n",
       "      <td>1.000000</td>\n",
       "      <td>0.00000</td>\n",
       "      <td>0.000000</td>\n",
       "      <td>51002.110000</td>\n",
       "      <td>0.000000</td>\n",
       "    </tr>\n",
       "    <tr>\n",
       "      <th>50%</th>\n",
       "      <td>5000.50000</td>\n",
       "      <td>1.569074e+07</td>\n",
       "      <td>652.000000</td>\n",
       "      <td>37.000000</td>\n",
       "      <td>5.000000</td>\n",
       "      <td>97198.540000</td>\n",
       "      <td>1.000000</td>\n",
       "      <td>1.00000</td>\n",
       "      <td>1.000000</td>\n",
       "      <td>100193.915000</td>\n",
       "      <td>0.000000</td>\n",
       "    </tr>\n",
       "    <tr>\n",
       "      <th>75%</th>\n",
       "      <td>7500.25000</td>\n",
       "      <td>1.575323e+07</td>\n",
       "      <td>718.000000</td>\n",
       "      <td>44.000000</td>\n",
       "      <td>7.000000</td>\n",
       "      <td>127644.240000</td>\n",
       "      <td>2.000000</td>\n",
       "      <td>1.00000</td>\n",
       "      <td>1.000000</td>\n",
       "      <td>149388.247500</td>\n",
       "      <td>0.000000</td>\n",
       "    </tr>\n",
       "    <tr>\n",
       "      <th>max</th>\n",
       "      <td>10000.00000</td>\n",
       "      <td>1.581569e+07</td>\n",
       "      <td>850.000000</td>\n",
       "      <td>92.000000</td>\n",
       "      <td>10.000000</td>\n",
       "      <td>250898.090000</td>\n",
       "      <td>4.000000</td>\n",
       "      <td>1.00000</td>\n",
       "      <td>1.000000</td>\n",
       "      <td>199992.480000</td>\n",
       "      <td>1.000000</td>\n",
       "    </tr>\n",
       "  </tbody>\n",
       "</table>\n",
       "</div>"
      ],
      "text/plain": [
       "        row_number   customer_id  credit_score           age        tenure  \\\n",
       "count  10000.00000  1.000000e+04  10000.000000  10000.000000  10000.000000   \n",
       "mean    5000.50000  1.569094e+07    650.528800     38.921800      5.012800   \n",
       "std     2886.89568  7.193619e+04     96.653299     10.487806      2.892174   \n",
       "min        1.00000  1.556570e+07    350.000000     18.000000      0.000000   \n",
       "25%     2500.75000  1.562853e+07    584.000000     32.000000      3.000000   \n",
       "50%     5000.50000  1.569074e+07    652.000000     37.000000      5.000000   \n",
       "75%     7500.25000  1.575323e+07    718.000000     44.000000      7.000000   \n",
       "max    10000.00000  1.581569e+07    850.000000     92.000000     10.000000   \n",
       "\n",
       "             balance  num_of_products  has_cr_card  is_active_member  \\\n",
       "count   10000.000000     10000.000000  10000.00000      10000.000000   \n",
       "mean    76485.889288         1.530200      0.70550          0.515100   \n",
       "std     62397.405202         0.581654      0.45584          0.499797   \n",
       "min         0.000000         1.000000      0.00000          0.000000   \n",
       "25%         0.000000         1.000000      0.00000          0.000000   \n",
       "50%     97198.540000         1.000000      1.00000          1.000000   \n",
       "75%    127644.240000         2.000000      1.00000          1.000000   \n",
       "max    250898.090000         4.000000      1.00000          1.000000   \n",
       "\n",
       "       estimated_salary        exited  \n",
       "count      10000.000000  10000.000000  \n",
       "mean      100090.239881      0.203700  \n",
       "std        57510.492818      0.402769  \n",
       "min           11.580000      0.000000  \n",
       "25%        51002.110000      0.000000  \n",
       "50%       100193.915000      0.000000  \n",
       "75%       149388.247500      0.000000  \n",
       "max       199992.480000      1.000000  "
      ]
     },
     "execution_count": 12,
     "metadata": {},
     "output_type": "execute_result"
    }
   ],
   "source": [
    "df.describe()"
   ]
  },
  {
   "cell_type": "code",
   "execution_count": 13,
   "metadata": {},
   "outputs": [
    {
     "data": {
      "image/png": "[encoded data removed]",
      "text/plain": [
       "<Figure size 500x700 with 6 Axes>"
      ]
     },
     "metadata": {},
     "output_type": "display_data"
    }
   ],
   "source": [
    "columns = ['credit_score', 'age', 'tenure', 'balance',\n",
    "           'num_of_products', 'estimated_salary']\n",
    "red_circle = dict(markerfacecolor='red', marker='o', markeredgecolor='white')\n",
    "\n",
    "fig, axs = plt.subplots(2, 3, figsize=(5, 7), sharey=False)\n",
    "\n",
    "for column, ax in zip(columns, axs.flat):\n",
    "    df[column].plot.box(x=column, ax=ax,\n",
    "                          flierprops=red_circle)\n",
    "\n",
    "plt.tight_layout()\n",
    "plt.show()"
   ]
  },
  {
   "cell_type": "code",
   "execution_count": 14,
   "metadata": {},
   "outputs": [
    {
     "data": {
      "image/png": "[encoded data removed]",
      "text/plain": [
       "<Figure size 1500x1000 with 9 Axes>"
      ]
     },
     "metadata": {},
     "output_type": "display_data"
    }
   ],
   "source": [
    "fig, axs = plt.subplots(3, 3, figsize=(15, 10))\n",
    "\n",
    "columns = df.select_dtypes(include=np.number).columns.tolist()[:1:-1]\n",
    "\n",
    "i = 0\n",
    "while columns:\n",
    "    col = columns.pop()\n",
    "    mean = df[col].mean()\n",
    "    median = df[col].median()\n",
    "    ax = axs[i//12][i%3]\n",
    "    sns.histplot(df[col], kde=True, ax=ax)\n",
    "    ax.axvline(x=median, c='r', label=f'Медиана')\n",
    "    ax.axvline(x=mean, c='r', ls='--', label=f'Среднее')\n",
    "    if col == 'estimated_salary':\n",
    "        for label in ax.get_xticklabels():\n",
    "            label.set(rotation=50, horizontalalignment='center')\n",
    "    i += 4\n",
    "\n",
    "plt.tight_layout()\n",
    "plt.legend(bbox_to_anchor=(-2.11, 3.7), fontsize=11)\n",
    "plt.show()"
   ]
  },
  {
   "cell_type": "markdown",
   "metadata": {},
   "source": [
    "В столбце с информацией о предполагаемой зарплате присутствуют аномально низкие значения. Оставляем столбец без изменений, т.к. неизвестно в какой валюте и за какой период указана предполагаемая зарплата (данные были сгенерированы автоматически)."
   ]
  },
  {
   "cell_type": "markdown",
   "metadata": {},
   "source": [
    "Удалим столбцы, не оказывающие влияния на целевой показатель."
   ]
  },
  {
   "cell_type": "code",
   "execution_count": 15,
   "metadata": {},
   "outputs": [],
   "source": [
    "df = df.drop(['row_number', 'customer_id', 'surname'], axis=1)"
   ]
  },
  {
   "cell_type": "code",
   "execution_count": 16,
   "metadata": {},
   "outputs": [],
   "source": [
    "interval_columns = ['credit_score', 'age', 'tenure',\n",
    "                    'balance', 'estimated_salary']"
   ]
  },
  {
   "cell_type": "code",
   "execution_count": 17,
   "metadata": {},
   "outputs": [
    {
     "data": {
      "image/png": "[encoded data removed]",
      "text/plain": [
       "<Figure size 1000x400 with 2 Axes>"
      ]
     },
     "metadata": {},
     "output_type": "display_data"
    }
   ],
   "source": [
    "phik_overview = df.phik_matrix(interval_cols=interval_columns)\n",
    "phik_overview = phik_overview.sort_values(by='exited', ascending=False)\n",
    "\n",
    "plt.figure(figsize=(10, 4))\n",
    "sns.heatmap(data=phik_overview, cmap='Blues', annot=True)\n",
    "plt.title('Корреляция $\\phi_K$')\n",
    "plt.show()"
   ]
  },
  {
   "cell_type": "markdown",
   "metadata": {},
   "source": [
    "Сильных взаимосвязей между признаками не наблюдается."
   ]
  },
  {
   "cell_type": "markdown",
   "metadata": {},
   "source": [
    "**Вывод:**    \n",
    "- набор данных состоит из 10 тысяч объектов, содержит 8 численных и 6 категориальных переменных;    \n",
    "- аномальные значения обнаружены только в столбце `estimated_salary`;  \n",
    "- восстановлены пропуски в колонке `tenure`;  \n",
    "- удалены переменные, не оказывающие влияния на целевой показатель."
   ]
  },
  {
   "cell_type": "markdown",
   "metadata": {},
   "source": [
    "## Исследование задачи"
   ]
  },
  {
   "cell_type": "code",
   "execution_count": 18,
   "metadata": {},
   "outputs": [
    {
     "data": {
      "image/png": "[encoded data removed]",
      "text/plain": [
       "<Figure size 700x400 with 1 Axes>"
      ]
     },
     "metadata": {},
     "output_type": "display_data"
    }
   ],
   "source": [
    "temp = df.pivot_table(index='exited', values='credit_score',\n",
    "                      aggfunc='count', margins=True)\n",
    "temp.columns = ['count']\n",
    "temp['percentage'] = temp.apply(\n",
    "    lambda x: (x.values / temp.loc['All', 'count'] * 100).round(2)\n",
    ")\n",
    "temp = temp.drop('All', axis=0)\n",
    "\n",
    "plt.figure(figsize=(7, 4))\n",
    "ax = sns.barplot(data=temp, x=temp.index, y='count',\n",
    "                 hue='count', dodge=False, alpha=0.3)\n",
    "\n",
    "patches = ax.patches[1::-1]\n",
    "for item, value in zip(patches, temp['percentage']):\n",
    "    plt.annotate(f'{value}%',\n",
    "                 (item.get_x() + item.get_width() / 2.4, item.get_height()),\n",
    "                 fontsize=12)\n",
    "\n",
    "plt.xticks([0, 1], ['Осталось', 'Отток'])\n",
    "ax.set_xlabel('')\n",
    "ax.set_ylabel('Количество клиентов')\n",
    "ax.set_title('Соотношение лояльных и ушедших клиентов')\n",
    "ax.get_legend().remove()\n",
    "ax.grid(True)"
   ]
  },
  {
   "cell_type": "markdown",
   "metadata": {},
   "source": [
    "Классы целевого признака не сбалансированы.  \n",
    "Соотношение примерно 4:1."
   ]
  },
  {
   "cell_type": "code",
   "execution_count": 19,
   "metadata": {},
   "outputs": [
    {
     "name": "stdout",
     "output_type": "stream",
     "text": [
      "True\n",
      "True\n",
      "Размер обучающей выборки: 8000\n",
      "Размер тестовой выборки: 2000\n",
      "Отношение тестовой выборки к обучающей: 0.25 \n"
     ]
    }
   ],
   "source": [
    "features = df.drop('exited', axis=1)\n",
    "target = df['exited']\n",
    "\n",
    "features_train, features_test, target_train, target_test = \\\n",
    "    train_test_split(features, target, test_size=.2,\n",
    "                     stratify=target, random_state=12345)\n",
    "\n",
    "print(features_train.shape[0] == target_train.shape[0])\n",
    "print(features_test.shape[0] == target_test.shape[0])\n",
    "print(f'Размер обучающей выборки: {features_train.shape[0]}')\n",
    "print(f'Размер тестовой выборки: {features_test.shape[0]}')\n",
    "print('Отношение тестовой выборки к обучающей: '\n",
    "      f'{features_test.shape[0] / features_train.shape[0]:.2f} ')"
   ]
  },
  {
   "cell_type": "code",
   "execution_count": 20,
   "metadata": {},
   "outputs": [
    {
     "data": {
      "text/html": [
       "<div>\n",
       "<style scoped>\n",
       "    .dataframe tbody tr th:only-of-type {\n",
       "        vertical-align: middle;\n",
       "    }\n",
       "\n",
       "    .dataframe tbody tr th {\n",
       "        vertical-align: top;\n",
       "    }\n",
       "\n",
       "    .dataframe thead th {\n",
       "        text-align: right;\n",
       "    }\n",
       "</style>\n",
       "<table border=\"1\" class=\"dataframe\">\n",
       "  <thead>\n",
       "    <tr style=\"text-align: right;\">\n",
       "      <th></th>\n",
       "      <th>credit_score</th>\n",
       "      <th>age</th>\n",
       "      <th>tenure</th>\n",
       "      <th>balance</th>\n",
       "      <th>num_of_products</th>\n",
       "      <th>has_cr_card</th>\n",
       "      <th>is_active_member</th>\n",
       "      <th>estimated_salary</th>\n",
       "      <th>gender_Male</th>\n",
       "      <th>geography_Germany</th>\n",
       "      <th>geography_Spain</th>\n",
       "    </tr>\n",
       "  </thead>\n",
       "  <tbody>\n",
       "    <tr>\n",
       "      <th>7837</th>\n",
       "      <td>850</td>\n",
       "      <td>48</td>\n",
       "      <td>2</td>\n",
       "      <td>0.00</td>\n",
       "      <td>1</td>\n",
       "      <td>1</td>\n",
       "      <td>0</td>\n",
       "      <td>169425.30</td>\n",
       "      <td>1.0</td>\n",
       "      <td>0.0</td>\n",
       "      <td>1.0</td>\n",
       "    </tr>\n",
       "    <tr>\n",
       "      <th>9505</th>\n",
       "      <td>651</td>\n",
       "      <td>28</td>\n",
       "      <td>10</td>\n",
       "      <td>79562.98</td>\n",
       "      <td>1</td>\n",
       "      <td>1</td>\n",
       "      <td>1</td>\n",
       "      <td>74687.37</td>\n",
       "      <td>1.0</td>\n",
       "      <td>0.0</td>\n",
       "      <td>0.0</td>\n",
       "    </tr>\n",
       "    <tr>\n",
       "      <th>6208</th>\n",
       "      <td>714</td>\n",
       "      <td>34</td>\n",
       "      <td>10</td>\n",
       "      <td>0.00</td>\n",
       "      <td>2</td>\n",
       "      <td>1</td>\n",
       "      <td>1</td>\n",
       "      <td>80234.14</td>\n",
       "      <td>1.0</td>\n",
       "      <td>0.0</td>\n",
       "      <td>0.0</td>\n",
       "    </tr>\n",
       "    <tr>\n",
       "      <th>5642</th>\n",
       "      <td>782</td>\n",
       "      <td>41</td>\n",
       "      <td>4</td>\n",
       "      <td>0.00</td>\n",
       "      <td>1</td>\n",
       "      <td>1</td>\n",
       "      <td>0</td>\n",
       "      <td>132943.88</td>\n",
       "      <td>0.0</td>\n",
       "      <td>0.0</td>\n",
       "      <td>1.0</td>\n",
       "    </tr>\n",
       "    <tr>\n",
       "      <th>9643</th>\n",
       "      <td>521</td>\n",
       "      <td>41</td>\n",
       "      <td>2</td>\n",
       "      <td>0.00</td>\n",
       "      <td>2</td>\n",
       "      <td>1</td>\n",
       "      <td>1</td>\n",
       "      <td>113089.43</td>\n",
       "      <td>0.0</td>\n",
       "      <td>0.0</td>\n",
       "      <td>0.0</td>\n",
       "    </tr>\n",
       "  </tbody>\n",
       "</table>\n",
       "</div>"
      ],
      "text/plain": [
       "      credit_score  age  tenure   balance  num_of_products  has_cr_card  \\\n",
       "7837           850   48       2      0.00                1            1   \n",
       "9505           651   28      10  79562.98                1            1   \n",
       "6208           714   34      10      0.00                2            1   \n",
       "5642           782   41       4      0.00                1            1   \n",
       "9643           521   41       2      0.00                2            1   \n",
       "\n",
       "      is_active_member  estimated_salary  gender_Male  geography_Germany  \\\n",
       "7837                 0         169425.30          1.0                0.0   \n",
       "9505                 1          74687.37          1.0                0.0   \n",
       "6208                 1          80234.14          1.0                0.0   \n",
       "5642                 0         132943.88          0.0                0.0   \n",
       "9643                 1         113089.43          0.0                0.0   \n",
       "\n",
       "      geography_Spain  \n",
       "7837              1.0  \n",
       "9505              0.0  \n",
       "6208              0.0  \n",
       "5642              1.0  \n",
       "9643              0.0  "
      ]
     },
     "execution_count": 20,
     "metadata": {},
     "output_type": "execute_result"
    }
   ],
   "source": [
    "train_ohe, test_ohe = features_train.copy(), features_test.copy()\n",
    "\n",
    "cat_features = ['gender', 'geography']\n",
    "\n",
    "ohe_encoder = OneHotEncoder(drop='first', sparse_output=False)\n",
    "\n",
    "train_temp = ohe_encoder.fit_transform(train_ohe[cat_features])\n",
    "train_ohe[ohe_encoder.get_feature_names_out()] = train_temp\n",
    "train_ohe.drop(cat_features, axis=1, inplace=True)\n",
    "\n",
    "test_temp = ohe_encoder.transform(test_ohe[cat_features])\n",
    "test_ohe[ohe_encoder.get_feature_names_out()] = test_temp\n",
    "test_ohe.drop(cat_features, axis=1, inplace=True)\n",
    "\n",
    "test_ohe.head()"
   ]
  },
  {
   "cell_type": "code",
   "execution_count": 21,
   "metadata": {},
   "outputs": [],
   "source": [
    "def objective(trial, method=None, weight=None, classifier='rf',\n",
    "              depth=(10, 12), split=(15, 20), features=(2, 4)):\n",
    "    if classifier == 'rf':\n",
    "        rf_params = {\n",
    "            'n_estimators': trial.suggest_int('n_estimators', 20, 100),\n",
    "            'max_depth': trial.suggest_int('max_depth', *depth),\n",
    "            'max_features': trial.suggest_int('max_features', *features),\n",
    "            'min_samples_split': trial.suggest_int('min_samples_split',\n",
    "                                                   *split)\n",
    "        }\n",
    "        clf = RandomForestClassifier(n_jobs=-1, random_state=SEED,\n",
    "                                     class_weight=weight, **rf_params)\n",
    "        if method:\n",
    "            strategy = trial.suggest_float('sampling_strategy',\n",
    "                                           0.3, 1, step=0.01)\n",
    "            clf = make_pipeline(\n",
    "                method(random_state=SEED, sampling_strategy=strategy),\n",
    "                StandardScaler(), clf\n",
    "            )\n",
    "        else:\n",
    "            clf = make_pipeline(StandardScaler(), clf)\n",
    "\n",
    "    elif classifier == 'dt':\n",
    "        dt_params = {\n",
    "            'max_depth': trial.suggest_int('max_depth', 8, 12),\n",
    "            'min_samples_leaf': trial.suggest_int('min_samples_leaf', 9, 14),\n",
    "            'max_features': trial.suggest_int('max_features', 6, 8)\n",
    "        }\n",
    "        clf = DecisionTreeClassifier(random_state=SEED, **dt_params)\n",
    "\n",
    "    else:\n",
    "        lr_params = {\n",
    "            'C': trial.suggest_float('C', 0.6, 0.8),\n",
    "            'max_iter': trial.suggest_int('max_iter', 100, 3000),\n",
    "            'solver': trial.suggest_categorical(\n",
    "                'solver', ['lbfgs', 'liblinear', 'sag', 'saga']\n",
    "            ),\n",
    "            'intercept_scaling': trial.suggest_int(\n",
    "                'intercept_scaling', 50, 70\n",
    "            ),\n",
    "            'tol': trial.suggest_float('tol', 0.2, 0.25)\n",
    "        }\n",
    "        clf = LogisticRegression(n_jobs=-1, random_state=SEED, **lr_params)\n",
    "        clf = make_pipeline(StandardScaler(), clf)\n",
    "\n",
    "    return cross_val_score(\n",
    "        clf, train_ohe, target_train, scoring='f1', n_jobs=-1,\n",
    "        cv=StratifiedKFold(5, random_state=SEED, shuffle=True)\n",
    "    ).mean()"
   ]
  },
  {
   "cell_type": "markdown",
   "metadata": {},
   "source": [
    "### Решающее дерево"
   ]
  },
  {
   "cell_type": "code",
   "execution_count": 22,
   "metadata": {},
   "outputs": [
    {
     "data": {
      "application/vnd.jupyter.widget-view+json": {
       "model_id": "479d53884bf74cc2aa3b400c65046598",
       "version_major": 2,
       "version_minor": 0
      },
      "text/plain": [
       "  0%|          | 0/10 [00:00<?, ?it/s]"
      ]
     },
     "metadata": {},
     "output_type": "display_data"
    }
   ],
   "source": [
    "func = lambda trial: objective(trial, classifier='dt')\n",
    "sampler = optuna.samplers.TPESampler(seed=SEED)\n",
    "dt_study = optuna.create_study(direction='maximize', sampler=sampler)\n",
    "dt_study.optimize(func, n_trials=10, show_progress_bar=True)"
   ]
  },
  {
   "cell_type": "code",
   "execution_count": 23,
   "metadata": {},
   "outputs": [
    {
     "name": "stdout",
     "output_type": "stream",
     "text": [
      "F1 = 0.567\n",
      "AUC-ROC = 0.820\n"
     ]
    }
   ],
   "source": [
    "clf = DecisionTreeClassifier(random_state=SEED, **dt_study.best_params)\n",
    "clf = make_pipeline(StandardScaler(), clf)\n",
    "\n",
    "dt_result = cross_validate(\n",
    "    clf, train_ohe, target_train, scoring=['f1', 'roc_auc'], n_jobs=-1,\n",
    "    cv=StratifiedKFold(5, random_state=SEED, shuffle=True)\n",
    ")\n",
    "\n",
    "\n",
    "dt_f1 = dt_result['test_f1'].mean()\n",
    "dt_roc_auc = dt_result['test_roc_auc'].mean()\n",
    "print(f'F1 = {dt_f1:.3f}\\nAUC-ROC = {dt_roc_auc:.3f}')"
   ]
  },
  {
   "cell_type": "markdown",
   "metadata": {},
   "source": [
    "### Случайный лес"
   ]
  },
  {
   "cell_type": "code",
   "execution_count": 24,
   "metadata": {},
   "outputs": [
    {
     "data": {
      "application/vnd.jupyter.widget-view+json": {
       "model_id": "95111cf3fc2140aca6e1b054686d9204",
       "version_major": 2,
       "version_minor": 0
      },
      "text/plain": [
       "  0%|          | 0/40 [00:00<?, ?it/s]"
      ]
     },
     "metadata": {},
     "output_type": "display_data"
    }
   ],
   "source": [
    "func = lambda trial: objective(trial, depth=(25, 30), split=(25, 30),\n",
    "                               features=(6, 9))\n",
    "sampler = optuna.samplers.TPESampler(seed=SEED)\n",
    "rf_study = optuna.create_study(direction='maximize', sampler=sampler)\n",
    "rf_study.optimize(func, n_trials=40, show_progress_bar=True)"
   ]
  },
  {
   "cell_type": "code",
   "execution_count": 25,
   "metadata": {},
   "outputs": [
    {
     "name": "stdout",
     "output_type": "stream",
     "text": [
      "F1 = 0.588\n",
      "AUC-ROC = 0.847\n"
     ]
    }
   ],
   "source": [
    "clf = RandomForestClassifier(random_state=SEED, **rf_study.best_params)\n",
    "clf = make_pipeline(StandardScaler(), clf)\n",
    "\n",
    "rf_result = cross_validate(\n",
    "    clf, train_ohe, target_train, scoring=['f1', 'roc_auc'], n_jobs=-1,\n",
    "    cv=StratifiedKFold(5, random_state=SEED, shuffle=True)\n",
    ")\n",
    "\n",
    "rf_f1 = rf_result['test_f1'].mean()\n",
    "rf_roc_auc = rf_result['test_roc_auc'].mean()\n",
    "print(f'F1 = {rf_f1:.3f}\\nAUC-ROC = {rf_roc_auc:.3f}')"
   ]
  },
  {
   "cell_type": "markdown",
   "metadata": {},
   "source": [
    "### Логистическая регрессия"
   ]
  },
  {
   "cell_type": "code",
   "execution_count": 26,
   "metadata": {},
   "outputs": [
    {
     "data": {
      "application/vnd.jupyter.widget-view+json": {
       "model_id": "26daadc15dc44e218c9c2f8149fe32a7",
       "version_major": 2,
       "version_minor": 0
      },
      "text/plain": [
       "  0%|          | 0/45 [00:00<?, ?it/s]"
      ]
     },
     "metadata": {},
     "output_type": "display_data"
    }
   ],
   "source": [
    "func = lambda trial: objective(trial, classifier='lr')\n",
    "sampler = optuna.samplers.TPESampler(seed=SEED)\n",
    "lr_study = optuna.create_study(direction='maximize', sampler=sampler)\n",
    "lr_study.optimize(func, n_trials=45, show_progress_bar=True)"
   ]
  },
  {
   "cell_type": "code",
   "execution_count": 27,
   "metadata": {},
   "outputs": [
    {
     "name": "stdout",
     "output_type": "stream",
     "text": [
      "F1 = 0.335\n",
      "AUC-ROC = 0.762\n"
     ]
    }
   ],
   "source": [
    "clf = LogisticRegression(random_state=SEED, **lr_study.best_params)\n",
    "clf = make_pipeline(StandardScaler(), clf)\n",
    "\n",
    "result = cross_validate(\n",
    "    clf, train_ohe, target_train, scoring=['f1', 'roc_auc'], n_jobs=-1,\n",
    "    cv=StratifiedKFold(5, random_state=SEED, shuffle=True)\n",
    ")\n",
    "lr_f1 = result['test_f1'].mean()\n",
    "lr_roc_auc = result['test_roc_auc'].mean()\n",
    "print(f'F1 = {lr_f1:.3f}\\nAUC-ROC = {lr_roc_auc:.3f}')"
   ]
  },
  {
   "cell_type": "code",
   "execution_count": 28,
   "metadata": {},
   "outputs": [
    {
     "data": {
      "text/html": [
       "<div>\n",
       "<style scoped>\n",
       "    .dataframe tbody tr th:only-of-type {\n",
       "        vertical-align: middle;\n",
       "    }\n",
       "\n",
       "    .dataframe tbody tr th {\n",
       "        vertical-align: top;\n",
       "    }\n",
       "\n",
       "    .dataframe thead th {\n",
       "        text-align: right;\n",
       "    }\n",
       "</style>\n",
       "<table border=\"1\" class=\"dataframe\">\n",
       "  <thead>\n",
       "    <tr style=\"text-align: right;\">\n",
       "      <th></th>\n",
       "      <th>F1-мера</th>\n",
       "      <th>AUC-ROC</th>\n",
       "    </tr>\n",
       "  </thead>\n",
       "  <tbody>\n",
       "    <tr>\n",
       "      <th>Случайный лес</th>\n",
       "      <td>0.587868</td>\n",
       "      <td>0.847257</td>\n",
       "    </tr>\n",
       "    <tr>\n",
       "      <th>Решающее дерево</th>\n",
       "      <td>0.567238</td>\n",
       "      <td>0.819892</td>\n",
       "    </tr>\n",
       "    <tr>\n",
       "      <th>Логистическая регрессия</th>\n",
       "      <td>0.335386</td>\n",
       "      <td>0.761761</td>\n",
       "    </tr>\n",
       "  </tbody>\n",
       "</table>\n",
       "</div>"
      ],
      "text/plain": [
       "                          F1-мера   AUC-ROC\n",
       "Случайный лес            0.587868  0.847257\n",
       "Решающее дерево          0.567238  0.819892\n",
       "Логистическая регрессия  0.335386  0.761761"
      ]
     },
     "execution_count": 28,
     "metadata": {},
     "output_type": "execute_result"
    }
   ],
   "source": [
    "f1_list = [rf_f1, dt_f1, lr_f1]\n",
    "roc_auc_list = [rf_roc_auc, dt_roc_auc, lr_roc_auc]\n",
    "\n",
    "pd.DataFrame(data={'F1-мера': f1_list, 'AUC-ROC': roc_auc_list},\n",
    "             index=['Случайный лес', 'Решающее дерево', 'Логистическая регрессия'])"
   ]
  },
  {
   "cell_type": "markdown",
   "metadata": {},
   "source": [
    "**Вывод:**  \n",
    "- данные разделены на обучающую и тестовою выборки в соотношении 4:1;\n",
    "- категориальные признаки преобразованы в численные;  \n",
    "- выполнен подбор гиперпараметров для моделей решающего дерева,  случайного леса и логистической регрессии;\n",
    "- лучший результат продемонстрировала модель на основе алгоритма случайного леса."
   ]
  },
  {
   "cell_type": "markdown",
   "metadata": {},
   "source": [
    "## Борьба с дисбалансом"
   ]
  },
  {
   "cell_type": "markdown",
   "metadata": {},
   "source": [
    "### Увеличение выборки"
   ]
  },
  {
   "cell_type": "code",
   "execution_count": 29,
   "metadata": {},
   "outputs": [
    {
     "data": {
      "application/vnd.jupyter.widget-view+json": {
       "model_id": "92e285478d3f4c96b79d16f9cf8b665e",
       "version_major": 2,
       "version_minor": 0
      },
      "text/plain": [
       "  0%|          | 0/100 [00:00<?, ?it/s]"
      ]
     },
     "metadata": {},
     "output_type": "display_data"
    }
   ],
   "source": [
    "func = lambda trial: objective(trial, SMOTE)\n",
    "sampler = optuna.samplers.TPESampler(seed=SEED)\n",
    "up_study = optuna.create_study(direction='maximize', sampler=sampler)\n",
    "up_study.optimize(func, n_trials=100, show_progress_bar=True)"
   ]
  },
  {
   "cell_type": "code",
   "execution_count": 30,
   "metadata": {},
   "outputs": [
    {
     "name": "stdout",
     "output_type": "stream",
     "text": [
      "Upsampling AUC-ROC: 0.850\n"
     ]
    }
   ],
   "source": [
    "up_f1 = up_study.best_value\n",
    "up_params = up_study.best_params\n",
    "strategy = up_params.pop('sampling_strategy')\n",
    "\n",
    "clf = RandomForestClassifier(random_state=SEED, **up_params, n_jobs=-1)\n",
    "\n",
    "imba_pipeline = make_pipeline(\n",
    "    SMOTE(random_state=SEED, sampling_strategy=strategy),\n",
    "    StandardScaler(), clf\n",
    ")\n",
    "\n",
    "up_roc_auc = cross_val_score(\n",
    "    imba_pipeline, train_ohe, target_train, scoring='roc_auc', n_jobs=-1,\n",
    "    cv=StratifiedKFold(5, random_state=SEED, shuffle=True)\n",
    ").mean()\n",
    "print(f'Upsampling AUC-ROC: {up_roc_auc:.3f}')"
   ]
  },
  {
   "cell_type": "markdown",
   "metadata": {},
   "source": [
    "### Уменьшение выборки"
   ]
  },
  {
   "cell_type": "code",
   "execution_count": 31,
   "metadata": {},
   "outputs": [
    {
     "data": {
      "application/vnd.jupyter.widget-view+json": {
       "model_id": "57ec5632c4494e0fa99cd22f7a56e772",
       "version_major": 2,
       "version_minor": 0
      },
      "text/plain": [
       "  0%|          | 0/75 [00:00<?, ?it/s]"
      ]
     },
     "metadata": {},
     "output_type": "display_data"
    }
   ],
   "source": [
    "func = lambda trial: objective(trial, RandomUnderSampler)\n",
    "sampler = optuna.samplers.TPESampler(seed=SEED)\n",
    "down_study = optuna.create_study(direction='maximize', sampler=sampler)\n",
    "down_study.optimize(func, n_trials=75, show_progress_bar=True)"
   ]
  },
  {
   "cell_type": "code",
   "execution_count": 32,
   "metadata": {},
   "outputs": [
    {
     "name": "stdout",
     "output_type": "stream",
     "text": [
      "Downsampling AUC-ROC: 0.856\n"
     ]
    }
   ],
   "source": [
    "down_f1 = down_study.best_value\n",
    "down_params = down_study.best_params\n",
    "strategy = down_params.pop('sampling_strategy')\n",
    "\n",
    "clf = RandomForestClassifier(random_state=SEED, **down_params, n_jobs=-1)\n",
    "\n",
    "imba_pipeline = make_pipeline(\n",
    "    RandomUnderSampler(random_state=SEED, sampling_strategy=strategy),\n",
    "    StandardScaler(), clf\n",
    ")\n",
    "\n",
    "down_roc_auc = cross_val_score(\n",
    "    imba_pipeline, train_ohe, target_train, scoring='roc_auc', n_jobs=-1,\n",
    "    cv=StratifiedKFold(5, random_state=SEED, shuffle=True)\n",
    ").mean()\n",
    "print(f'Downsampling AUC-ROC: {down_roc_auc:.3f}')"
   ]
  },
  {
   "cell_type": "markdown",
   "metadata": {},
   "source": [
    "### Взвешивание классов"
   ]
  },
  {
   "cell_type": "code",
   "execution_count": 33,
   "metadata": {},
   "outputs": [
    {
     "data": {
      "application/vnd.jupyter.widget-view+json": {
       "model_id": "b7e4594182b641e9b7e0d8fa9dfa8b8c",
       "version_major": 2,
       "version_minor": 0
      },
      "text/plain": [
       "  0%|          | 0/100 [00:00<?, ?it/s]"
      ]
     },
     "metadata": {},
     "output_type": "display_data"
    }
   ],
   "source": [
    "func = lambda trial: objective(trial, weight='balanced')\n",
    "sampler = optuna.samplers.TPESampler(seed=SEED)\n",
    "balanced_study = optuna.create_study(direction='maximize', sampler=sampler)\n",
    "balanced_study.optimize(func, n_trials=100, show_progress_bar=True)"
   ]
  },
  {
   "cell_type": "code",
   "execution_count": 34,
   "metadata": {},
   "outputs": [
    {
     "name": "stdout",
     "output_type": "stream",
     "text": [
      "Balanced AUC-ROC: 0.859\n"
     ]
    }
   ],
   "source": [
    "best_params = balanced_study.best_params\n",
    "balanced_f1 = balanced_study.best_value\n",
    "\n",
    "clf = RandomForestClassifier(random_state=SEED, class_weight='balanced',\n",
    "                             **best_params)\n",
    "best_params = clf.get_params(deep=True)\n",
    "clf = make_pipeline(StandardScaler(), clf)\n",
    "\n",
    "\n",
    "balanced_roc_auc = cross_val_score(\n",
    "        clf, train_ohe, target_train, scoring='roc_auc', n_jobs=-1,\n",
    "        cv=StratifiedKFold(5, random_state=SEED, shuffle=True)\n",
    ").mean()\n",
    "balanced_roc_auc\n",
    "print(f'Balanced AUC-ROC: {balanced_roc_auc:.3f}')"
   ]
  },
  {
   "cell_type": "markdown",
   "metadata": {},
   "source": [
    "### Изменение порога классификации"
   ]
  },
  {
   "cell_type": "code",
   "execution_count": 35,
   "metadata": {},
   "outputs": [
    {
     "name": "stderr",
     "output_type": "stream",
     "text": [
      "100%|██████████████████████████████████████████| 11/11 [00:07<00:00,  1.49it/s]\n"
     ]
    }
   ],
   "source": [
    "best_threshold = None\n",
    "best_f1_score = 0\n",
    "\n",
    "for threshold in tqdm(np.arange(0.2, 0.71, 0.05)):\n",
    "    class LocalClassifier(RandomForestClassifier):\n",
    "\n",
    "        def predict(self, X):\n",
    "            return self.predict_proba(X)[:, 1] > threshold\n",
    "\n",
    "    clf = make_pipeline(StandardScaler(), LocalClassifier(**best_params))\n",
    "\n",
    "    f1 = cross_val_score(\n",
    "        clf, train_ohe, target_train, scoring='f1', n_jobs=-1,\n",
    "        cv=StratifiedKFold(5, random_state=SEED, shuffle=True)\n",
    "    ).mean()\n",
    "\n",
    "    if f1 > best_f1_score:\n",
    "        best_f1_score = f1\n",
    "        best_threshold = threshold"
   ]
  },
  {
   "cell_type": "code",
   "execution_count": 36,
   "metadata": {},
   "outputs": [
    {
     "name": "stdout",
     "output_type": "stream",
     "text": [
      "Порог: 0.50\n",
      "F1-мера: 0.62\n"
     ]
    }
   ],
   "source": [
    "print(f'Порог: {best_threshold:.2f}\\nF1-мера: {best_f1_score:.2f}')"
   ]
  },
  {
   "cell_type": "code",
   "execution_count": 37,
   "metadata": {},
   "outputs": [
    {
     "data": {
      "text/html": [
       "<div>\n",
       "<style scoped>\n",
       "    .dataframe tbody tr th:only-of-type {\n",
       "        vertical-align: middle;\n",
       "    }\n",
       "\n",
       "    .dataframe tbody tr th {\n",
       "        vertical-align: top;\n",
       "    }\n",
       "\n",
       "    .dataframe thead th {\n",
       "        text-align: right;\n",
       "    }\n",
       "</style>\n",
       "<table border=\"1\" class=\"dataframe\">\n",
       "  <thead>\n",
       "    <tr style=\"text-align: right;\">\n",
       "      <th></th>\n",
       "      <th>F1-мера</th>\n",
       "      <th>AUC-ROC</th>\n",
       "    </tr>\n",
       "  </thead>\n",
       "  <tbody>\n",
       "    <tr>\n",
       "      <th>Взвешивание классов</th>\n",
       "      <td>0.624327</td>\n",
       "      <td>0.859007</td>\n",
       "    </tr>\n",
       "    <tr>\n",
       "      <th>Уменьшение выборки</th>\n",
       "      <td>0.624097</td>\n",
       "      <td>0.855566</td>\n",
       "    </tr>\n",
       "    <tr>\n",
       "      <th>Увеличение выборки</th>\n",
       "      <td>0.610793</td>\n",
       "      <td>0.849700</td>\n",
       "    </tr>\n",
       "  </tbody>\n",
       "</table>\n",
       "</div>"
      ],
      "text/plain": [
       "                      F1-мера   AUC-ROC\n",
       "Взвешивание классов  0.624327  0.859007\n",
       "Уменьшение выборки   0.624097  0.855566\n",
       "Увеличение выборки   0.610793  0.849700"
      ]
     },
     "execution_count": 37,
     "metadata": {},
     "output_type": "execute_result"
    }
   ],
   "source": [
    "f1_list = [balanced_f1, down_f1, up_f1]\n",
    "roc_auc_list = [balanced_roc_auc, down_roc_auc, up_roc_auc]\n",
    "\n",
    "pd.DataFrame(data={'F1-мера': f1_list, 'AUC-ROC': roc_auc_list},\n",
    "             index=['Взвешивание классов', 'Уменьшение выборки',\n",
    "                    'Увеличение выборки'])"
   ]
  },
  {
   "cell_type": "markdown",
   "metadata": {},
   "source": [
    "**Вывод:**  \n",
    "- взвешивание классов и уменьшение выборки дуют наибольший прирост к F1-мере, чуть хуже результат показал метод увеличения выборки;  \n",
    "- 0.5 – оптимальный порог классификации."
   ]
  },
  {
   "cell_type": "markdown",
   "metadata": {},
   "source": [
    "## Тестирование модели"
   ]
  },
  {
   "cell_type": "code",
   "execution_count": 38,
   "metadata": {},
   "outputs": [
    {
     "data": {
      "text/html": [
       "<div>\n",
       "<style scoped>\n",
       "    .dataframe tbody tr th:only-of-type {\n",
       "        vertical-align: middle;\n",
       "    }\n",
       "\n",
       "    .dataframe tbody tr th {\n",
       "        vertical-align: top;\n",
       "    }\n",
       "\n",
       "    .dataframe thead th {\n",
       "        text-align: right;\n",
       "    }\n",
       "</style>\n",
       "<table border=\"1\" class=\"dataframe\">\n",
       "  <thead>\n",
       "    <tr style=\"text-align: right;\">\n",
       "      <th></th>\n",
       "      <th>credit_score</th>\n",
       "      <th>age</th>\n",
       "      <th>tenure</th>\n",
       "      <th>balance</th>\n",
       "      <th>num_of_products</th>\n",
       "      <th>has_cr_card</th>\n",
       "      <th>is_active_member</th>\n",
       "      <th>estimated_salary</th>\n",
       "      <th>gender_Male</th>\n",
       "      <th>geography_Germany</th>\n",
       "      <th>geography_Spain</th>\n",
       "    </tr>\n",
       "  </thead>\n",
       "  <tbody>\n",
       "    <tr>\n",
       "      <th>7837</th>\n",
       "      <td>2.064665</td>\n",
       "      <td>0.872578</td>\n",
       "      <td>-1.047861</td>\n",
       "      <td>-1.224906</td>\n",
       "      <td>-0.911497</td>\n",
       "      <td>0.648814</td>\n",
       "      <td>-1.030464</td>\n",
       "      <td>1.199844</td>\n",
       "      <td>0.911637</td>\n",
       "      <td>-0.578313</td>\n",
       "      <td>1.734942</td>\n",
       "    </tr>\n",
       "    <tr>\n",
       "      <th>9505</th>\n",
       "      <td>0.010819</td>\n",
       "      <td>-1.043623</td>\n",
       "      <td>1.727815</td>\n",
       "      <td>0.047190</td>\n",
       "      <td>-0.911497</td>\n",
       "      <td>0.648814</td>\n",
       "      <td>0.970437</td>\n",
       "      <td>-0.446932</td>\n",
       "      <td>0.911637</td>\n",
       "      <td>-0.578313</td>\n",
       "      <td>-0.576388</td>\n",
       "    </tr>\n",
       "    <tr>\n",
       "      <th>6208</th>\n",
       "      <td>0.661031</td>\n",
       "      <td>-0.468763</td>\n",
       "      <td>1.727815</td>\n",
       "      <td>-1.224906</td>\n",
       "      <td>0.805878</td>\n",
       "      <td>0.648814</td>\n",
       "      <td>0.970437</td>\n",
       "      <td>-0.350516</td>\n",
       "      <td>0.911637</td>\n",
       "      <td>-0.578313</td>\n",
       "      <td>-0.576388</td>\n",
       "    </tr>\n",
       "  </tbody>\n",
       "</table>\n",
       "</div>"
      ],
      "text/plain": [
       "      credit_score       age    tenure   balance  num_of_products  \\\n",
       "7837      2.064665  0.872578 -1.047861 -1.224906        -0.911497   \n",
       "9505      0.010819 -1.043623  1.727815  0.047190        -0.911497   \n",
       "6208      0.661031 -0.468763  1.727815 -1.224906         0.805878   \n",
       "\n",
       "      has_cr_card  is_active_member  estimated_salary  gender_Male  \\\n",
       "7837     0.648814         -1.030464          1.199844     0.911637   \n",
       "9505     0.648814          0.970437         -0.446932     0.911637   \n",
       "6208     0.648814          0.970437         -0.350516     0.911637   \n",
       "\n",
       "      geography_Germany  geography_Spain  \n",
       "7837          -0.578313         1.734942  \n",
       "9505          -0.578313        -0.576388  \n",
       "6208          -0.578313        -0.576388  "
      ]
     },
     "execution_count": 38,
     "metadata": {},
     "output_type": "execute_result"
    }
   ],
   "source": [
    "scaler = StandardScaler()\n",
    "\n",
    "train_ohe = pd.DataFrame(\n",
    "    scaler.fit_transform(train_ohe), columns=train_ohe.columns,\n",
    "    index=train_ohe.index\n",
    ")\n",
    "\n",
    "test_ohe = pd.DataFrame(\n",
    "    scaler.transform(test_ohe), columns=test_ohe.columns,\n",
    "    index=test_ohe.index\n",
    ")\n",
    "test_ohe.head(3)"
   ]
  },
  {
   "cell_type": "code",
   "execution_count": 39,
   "metadata": {},
   "outputs": [],
   "source": [
    "def plot_roc_curve(roc_auc, threshold=0.5):\n",
    "    fpr, tpr, thresh = \\\n",
    "        roc_curve(target_test, clf.predict_proba(test_ohe)[:, 1])\n",
    "\n",
    "    idx = np.argmin(abs(thresh - threshold))\n",
    "    x_thresh, y_thresh = fpr[idx], tpr[idx]\n",
    "\n",
    "    plt.figure(figsize=(7, 5))\n",
    "    \n",
    "    plt.plot(fpr, tpr, label=f'ROC-кривая (площадь = {roc_auc:.2f})')\n",
    "    plt.plot([0, 1], [0, 1], c='r', linestyle='--', label='Случайная модель')\n",
    "\n",
    "    plt.axhline(y=y_thresh, c='black', ls=':')\n",
    "    plt.axvline(x=x_thresh, c='black', ls=':')\n",
    "    \n",
    "    plt.text(x=.25, y=.6, s=f'Порог : {threshold:.2f}')\n",
    "    plt.plot(x_thresh, y_thresh, 'ro')\n",
    "\n",
    "    plt.xlabel('False Positive Rate')\n",
    "    plt.ylabel('True Positive Rate')\n",
    "    plt.title('ROC-кривая')\n",
    "    plt.legend()"
   ]
  },
  {
   "cell_type": "code",
   "execution_count": 40,
   "metadata": {},
   "outputs": [
    {
     "name": "stdout",
     "output_type": "stream",
     "text": [
      "Показатели на тестовой выборке:\n",
      "  - F1 = 0.630;\n",
      "  - AUC-ROC = 0.869.\n"
     ]
    }
   ],
   "source": [
    "clf = RandomForestClassifier(**best_params)\n",
    "\n",
    "clf.fit(train_ohe, target_train)\n",
    "f1 = f1_score(target_test, clf.predict(test_ohe))\n",
    "\n",
    "roc_auc = roc_auc_score(target_test, clf.predict_proba(test_ohe)[:, 1])\n",
    "print('Показатели на тестовой выборке:')\n",
    "print(f'  - F1 = {f1:.3f};\\n  - AUC-ROC = {roc_auc:.3f}.')"
   ]
  },
  {
   "cell_type": "code",
   "execution_count": 41,
   "metadata": {},
   "outputs": [
    {
     "data": {
      "image/png": "[encoded data removed]",
      "text/plain": [
       "<Figure size 700x500 with 1 Axes>"
      ]
     },
     "metadata": {},
     "output_type": "display_data"
    }
   ],
   "source": [
    "plot_roc_curve(roc_auc)"
   ]
  },
  {
   "cell_type": "markdown",
   "metadata": {},
   "source": [
    "## Общий вывод"
   ]
  },
  {
   "cell_type": "markdown",
   "metadata": {},
   "source": [
    "**Описание данных**  \n",
    "Признаки  \n",
    "- `row_number` — индекс строки в данных  \n",
    "- `customer_id` — уникальный идентификатор клиента  \n",
    "- `surname` — фамилия  \n",
    "- `credit_score` — кредитный рейтинг  \n",
    "- `geography` — страна проживания  \n",
    "- `gender` — пол  \n",
    "- `age` — возраст  \n",
    "- `tenure` — сколько лет человек является клиентом банка  \n",
    "- `balance` — баланс на счёте  \n",
    "- `num_of_products` — количество продуктов банка, используемых клиентом  \n",
    "- `has_cr_card` — наличие кредитной карты  \n",
    "- `is_active_member` — активность клиента  \n",
    "- `estimated_salary` — предполагаемая зарплата  \n",
    "\n",
    "Целевой признак  \n",
    "- `exited` — факт ухода клиента.  \n",
    "\n",
    "**Подготовка данных:**  \n",
    "- удалены переменные, не влияющие на целевой признак;   \n",
    "- восстановлены данные в столбце `tenure`;  \n",
    "- категориальные признаки преобразованы в численные.  \n",
    "\n",
    "**Исследование задачи**  \n",
    "В ходе исследования было выполнено:  \n",
    "- масштабирование признаков;  \n",
    "- разделение данных на обучающую и тестовую выборки;  \n",
    "- сравнение трёх моделей (критерий – *F1*-мера): решающего дерева, случайного леса и логистической регрессии.  \n",
    "\n",
    "Модель на основе алгоритма случайного леса показала лучшие результаты, поэтому была выбрана для исследования методов увеличения качества при дисбалансе классов.\n",
    "\n",
    "**Борьба с дисбалансом**  \n",
    "\n",
    "Было исследовано три метода увеличения качества модели:  \n",
    "- увеличение выборки;\n",
    "- уменьшение выборки;\n",
    "- взвешивание классов.  \n",
    "\n",
    "С точки зрения метрики *F1* на валидационной выборке методы расположились в следующем порядке:  \n",
    "1. Взвешивание классов (*F1* = 0.624).  \n",
    "2. Уменьшение выборки (*F1* = 0.624).  \n",
    "3. Увеличение выборки (*F1* = 0.611).  "
   ]
  }
 ],
 "metadata": {
  "ExecuteTimeLog": [
   {
    "duration": 977,
    "start_time": "2023-06-22T12:25:18.259Z"
   },
   {
    "duration": 6,
    "start_time": "2023-06-22T12:40:30.765Z"
   },
   {
    "duration": 5,
    "start_time": "2023-06-22T12:41:02.964Z"
   },
   {
    "duration": 6,
    "start_time": "2023-06-22T12:41:41.908Z"
   },
   {
    "duration": 10034,
    "start_time": "2023-06-29T19:49:59.105Z"
   },
   {
    "duration": 1592,
    "start_time": "2023-06-29T19:50:09.142Z"
   },
   {
    "duration": 0,
    "start_time": "2023-06-29T19:50:10.738Z"
   },
   {
    "duration": 0,
    "start_time": "2023-06-29T19:50:10.740Z"
   },
   {
    "duration": 0,
    "start_time": "2023-06-29T19:50:10.742Z"
   },
   {
    "duration": 0,
    "start_time": "2023-06-29T19:50:10.757Z"
   },
   {
    "duration": 0,
    "start_time": "2023-06-29T19:50:10.758Z"
   },
   {
    "duration": 0,
    "start_time": "2023-06-29T19:50:10.759Z"
   },
   {
    "duration": 0,
    "start_time": "2023-06-29T19:50:10.759Z"
   },
   {
    "duration": 0,
    "start_time": "2023-06-29T19:50:10.769Z"
   },
   {
    "duration": 0,
    "start_time": "2023-06-29T19:50:10.770Z"
   },
   {
    "duration": 0,
    "start_time": "2023-06-29T19:50:10.771Z"
   },
   {
    "duration": 0,
    "start_time": "2023-06-29T19:50:10.773Z"
   },
   {
    "duration": 0,
    "start_time": "2023-06-29T19:50:10.779Z"
   },
   {
    "duration": 0,
    "start_time": "2023-06-29T19:50:10.781Z"
   },
   {
    "duration": 0,
    "start_time": "2023-06-29T19:50:10.784Z"
   },
   {
    "duration": 0,
    "start_time": "2023-06-29T19:50:10.786Z"
   },
   {
    "duration": 0,
    "start_time": "2023-06-29T19:50:10.787Z"
   },
   {
    "duration": 0,
    "start_time": "2023-06-29T19:50:10.791Z"
   },
   {
    "duration": 0,
    "start_time": "2023-06-29T19:50:10.793Z"
   },
   {
    "duration": 0,
    "start_time": "2023-06-29T19:50:10.795Z"
   },
   {
    "duration": 0,
    "start_time": "2023-06-29T19:50:10.796Z"
   },
   {
    "duration": 0,
    "start_time": "2023-06-29T19:50:10.798Z"
   },
   {
    "duration": 0,
    "start_time": "2023-06-29T19:50:10.799Z"
   },
   {
    "duration": 0,
    "start_time": "2023-06-29T19:50:10.801Z"
   },
   {
    "duration": 0,
    "start_time": "2023-06-29T19:50:10.803Z"
   },
   {
    "duration": 0,
    "start_time": "2023-06-29T19:50:10.804Z"
   },
   {
    "duration": 0,
    "start_time": "2023-06-29T19:50:10.805Z"
   },
   {
    "duration": 0,
    "start_time": "2023-06-29T19:50:10.806Z"
   },
   {
    "duration": 0,
    "start_time": "2023-06-29T19:50:10.808Z"
   },
   {
    "duration": 0,
    "start_time": "2023-06-29T19:50:10.809Z"
   },
   {
    "duration": 0,
    "start_time": "2023-06-29T19:50:10.811Z"
   },
   {
    "duration": 0,
    "start_time": "2023-06-29T19:50:10.812Z"
   },
   {
    "duration": 0,
    "start_time": "2023-06-29T19:50:10.813Z"
   },
   {
    "duration": 0,
    "start_time": "2023-06-29T19:50:10.814Z"
   },
   {
    "duration": 0,
    "start_time": "2023-06-29T19:50:10.815Z"
   },
   {
    "duration": 0,
    "start_time": "2023-06-29T19:50:10.816Z"
   },
   {
    "duration": 5,
    "start_time": "2023-06-29T19:51:12.274Z"
   },
   {
    "duration": 1266,
    "start_time": "2023-06-29T19:51:12.281Z"
   },
   {
    "duration": 4,
    "start_time": "2023-06-29T19:51:13.549Z"
   },
   {
    "duration": 219,
    "start_time": "2023-06-29T19:51:13.554Z"
   },
   {
    "duration": 38,
    "start_time": "2023-06-29T19:51:13.779Z"
   },
   {
    "duration": 1424,
    "start_time": "2023-06-29T19:51:13.819Z"
   },
   {
    "duration": 12,
    "start_time": "2023-06-29T19:51:15.244Z"
   },
   {
    "duration": 14,
    "start_time": "2023-06-29T19:51:15.262Z"
   },
   {
    "duration": 34,
    "start_time": "2023-06-29T19:51:15.282Z"
   },
   {
    "duration": 4,
    "start_time": "2023-06-29T19:51:15.319Z"
   },
   {
    "duration": 40,
    "start_time": "2023-06-29T19:51:15.327Z"
   },
   {
    "duration": 64,
    "start_time": "2023-06-29T19:51:15.371Z"
   },
   {
    "duration": 924,
    "start_time": "2023-06-29T19:51:15.437Z"
   },
   {
    "duration": 4118,
    "start_time": "2023-06-29T19:51:16.367Z"
   },
   {
    "duration": 22,
    "start_time": "2023-06-29T19:51:20.487Z"
   },
   {
    "duration": 10,
    "start_time": "2023-06-29T19:51:20.511Z"
   },
   {
    "duration": 8,
    "start_time": "2023-06-29T19:51:20.524Z"
   },
   {
    "duration": 9,
    "start_time": "2023-06-29T19:51:20.535Z"
   },
   {
    "duration": 41,
    "start_time": "2023-06-29T19:51:20.546Z"
   },
   {
    "duration": 190,
    "start_time": "2023-06-29T19:51:20.594Z"
   },
   {
    "duration": 18,
    "start_time": "2023-06-29T19:51:20.787Z"
   },
   {
    "duration": 22,
    "start_time": "2023-06-29T19:51:20.807Z"
   },
   {
    "duration": 186,
    "start_time": "2023-06-29T19:51:20.831Z"
   },
   {
    "duration": 6163,
    "start_time": "2023-06-29T19:51:21.019Z"
   },
   {
    "duration": 512,
    "start_time": "2023-06-29T19:51:27.187Z"
   },
   {
    "duration": 82,
    "start_time": "2023-06-29T19:51:27.712Z"
   },
   {
    "duration": 10,
    "start_time": "2023-06-29T19:51:27.798Z"
   },
   {
    "duration": 490290,
    "start_time": "2023-06-29T19:51:27.853Z"
   },
   {
    "duration": 4166,
    "start_time": "2023-06-29T19:59:38.147Z"
   },
   {
    "duration": 189552,
    "start_time": "2023-06-29T19:59:42.315Z"
   },
   {
    "duration": 2541,
    "start_time": "2023-06-29T20:02:51.869Z"
   },
   {
    "duration": 316024,
    "start_time": "2023-06-29T20:02:54.412Z"
   },
   {
    "duration": 103,
    "start_time": "2023-06-29T20:08:10.438Z"
   },
   {
    "duration": 0,
    "start_time": "2023-06-29T20:08:10.543Z"
   },
   {
    "duration": 0,
    "start_time": "2023-06-29T20:08:10.544Z"
   },
   {
    "duration": 0,
    "start_time": "2023-06-29T20:08:10.563Z"
   },
   {
    "duration": 0,
    "start_time": "2023-06-29T20:08:10.570Z"
   },
   {
    "duration": 28,
    "start_time": "2023-06-29T20:08:56.947Z"
   },
   {
    "duration": 1881,
    "start_time": "2023-06-29T20:10:10.733Z"
   },
   {
    "duration": 21,
    "start_time": "2023-06-29T20:10:22.028Z"
   },
   {
    "duration": 2002,
    "start_time": "2023-06-29T20:11:36.627Z"
   },
   {
    "duration": 20712,
    "start_time": "2023-06-29T20:11:42.220Z"
   },
   {
    "duration": 4,
    "start_time": "2023-06-29T20:12:10.091Z"
   },
   {
    "duration": 11,
    "start_time": "2023-06-29T20:12:27.968Z"
   },
   {
    "duration": 21,
    "start_time": "2023-06-29T20:12:31.148Z"
   },
   {
    "duration": 497,
    "start_time": "2023-06-29T20:12:32.882Z"
   },
   {
    "duration": 499,
    "start_time": "2023-06-29T20:13:14.643Z"
   },
   {
    "duration": 54,
    "start_time": "2023-06-30T08:24:43.921Z"
   },
   {
    "duration": 2,
    "start_time": "2023-06-30T08:25:03.568Z"
   },
   {
    "duration": 685,
    "start_time": "2023-06-30T08:25:03.572Z"
   },
   {
    "duration": 0,
    "start_time": "2023-06-30T08:25:04.296Z"
   },
   {
    "duration": 0,
    "start_time": "2023-06-30T08:25:04.297Z"
   },
   {
    "duration": 0,
    "start_time": "2023-06-30T08:25:04.299Z"
   },
   {
    "duration": 0,
    "start_time": "2023-06-30T08:25:04.300Z"
   },
   {
    "duration": 0,
    "start_time": "2023-06-30T08:25:04.301Z"
   },
   {
    "duration": 0,
    "start_time": "2023-06-30T08:25:04.303Z"
   },
   {
    "duration": 0,
    "start_time": "2023-06-30T08:25:04.303Z"
   },
   {
    "duration": 0,
    "start_time": "2023-06-30T08:25:04.305Z"
   },
   {
    "duration": 0,
    "start_time": "2023-06-30T08:25:04.313Z"
   },
   {
    "duration": 0,
    "start_time": "2023-06-30T08:25:04.315Z"
   },
   {
    "duration": 0,
    "start_time": "2023-06-30T08:25:04.316Z"
   },
   {
    "duration": 0,
    "start_time": "2023-06-30T08:25:04.318Z"
   },
   {
    "duration": 0,
    "start_time": "2023-06-30T08:25:04.319Z"
   },
   {
    "duration": 0,
    "start_time": "2023-06-30T08:25:04.320Z"
   },
   {
    "duration": 0,
    "start_time": "2023-06-30T08:25:04.322Z"
   },
   {
    "duration": 0,
    "start_time": "2023-06-30T08:25:04.323Z"
   },
   {
    "duration": 0,
    "start_time": "2023-06-30T08:25:04.325Z"
   },
   {
    "duration": 0,
    "start_time": "2023-06-30T08:25:04.326Z"
   },
   {
    "duration": 0,
    "start_time": "2023-06-30T08:25:04.327Z"
   },
   {
    "duration": 0,
    "start_time": "2023-06-30T08:25:04.329Z"
   },
   {
    "duration": 0,
    "start_time": "2023-06-30T08:25:04.330Z"
   },
   {
    "duration": 0,
    "start_time": "2023-06-30T08:25:04.332Z"
   },
   {
    "duration": 0,
    "start_time": "2023-06-30T08:25:04.333Z"
   },
   {
    "duration": 0,
    "start_time": "2023-06-30T08:25:04.335Z"
   },
   {
    "duration": 0,
    "start_time": "2023-06-30T08:25:04.336Z"
   },
   {
    "duration": 0,
    "start_time": "2023-06-30T08:25:04.338Z"
   },
   {
    "duration": 0,
    "start_time": "2023-06-30T08:25:04.339Z"
   },
   {
    "duration": 0,
    "start_time": "2023-06-30T08:25:04.341Z"
   },
   {
    "duration": 0,
    "start_time": "2023-06-30T08:25:04.342Z"
   },
   {
    "duration": 0,
    "start_time": "2023-06-30T08:25:04.343Z"
   },
   {
    "duration": 0,
    "start_time": "2023-06-30T08:25:04.345Z"
   },
   {
    "duration": 0,
    "start_time": "2023-06-30T08:25:04.347Z"
   },
   {
    "duration": 0,
    "start_time": "2023-06-30T08:25:04.348Z"
   },
   {
    "duration": 0,
    "start_time": "2023-06-30T08:25:04.349Z"
   },
   {
    "duration": 0,
    "start_time": "2023-06-30T08:25:04.350Z"
   },
   {
    "duration": 7038,
    "start_time": "2023-06-30T08:36:59.323Z"
   },
   {
    "duration": 1284,
    "start_time": "2023-06-30T08:37:06.364Z"
   },
   {
    "duration": 4,
    "start_time": "2023-06-30T08:37:07.650Z"
   },
   {
    "duration": 168,
    "start_time": "2023-06-30T08:37:07.656Z"
   },
   {
    "duration": 30,
    "start_time": "2023-06-30T08:37:07.826Z"
   },
   {
    "duration": 1146,
    "start_time": "2023-06-30T08:37:07.858Z"
   },
   {
    "duration": 7,
    "start_time": "2023-06-30T08:37:09.006Z"
   },
   {
    "duration": 5,
    "start_time": "2023-06-30T08:37:09.015Z"
   },
   {
    "duration": 23,
    "start_time": "2023-06-30T08:37:09.022Z"
   },
   {
    "duration": 3,
    "start_time": "2023-06-30T08:37:09.048Z"
   },
   {
    "duration": 15,
    "start_time": "2023-06-30T08:37:09.053Z"
   },
   {
    "duration": 55,
    "start_time": "2023-06-30T08:37:09.069Z"
   },
   {
    "duration": 789,
    "start_time": "2023-06-30T08:37:09.126Z"
   },
   {
    "duration": 3254,
    "start_time": "2023-06-30T08:37:09.917Z"
   },
   {
    "duration": 8,
    "start_time": "2023-06-30T08:37:13.172Z"
   },
   {
    "duration": 22,
    "start_time": "2023-06-30T08:37:13.182Z"
   },
   {
    "duration": 27,
    "start_time": "2023-06-30T08:37:13.206Z"
   },
   {
    "duration": 25,
    "start_time": "2023-06-30T08:37:13.234Z"
   },
   {
    "duration": 51,
    "start_time": "2023-06-30T08:37:13.261Z"
   },
   {
    "duration": 154,
    "start_time": "2023-06-30T08:37:13.313Z"
   },
   {
    "duration": 12,
    "start_time": "2023-06-30T08:37:13.468Z"
   },
   {
    "duration": 31,
    "start_time": "2023-06-30T08:37:13.481Z"
   },
   {
    "duration": 159,
    "start_time": "2023-06-30T08:37:13.513Z"
   },
   {
    "duration": 4949,
    "start_time": "2023-06-30T08:37:13.674Z"
   },
   {
    "duration": 698,
    "start_time": "2023-06-30T08:37:18.625Z"
   },
   {
    "duration": 94,
    "start_time": "2023-06-30T08:37:19.325Z"
   },
   {
    "duration": 94,
    "start_time": "2023-06-30T08:37:19.421Z"
   },
   {
    "duration": 375790,
    "start_time": "2023-06-30T08:37:19.518Z"
   },
   {
    "duration": 3186,
    "start_time": "2023-06-30T08:43:35.310Z"
   },
   {
    "duration": 159023,
    "start_time": "2023-06-30T08:43:38.498Z"
   },
   {
    "duration": 2268,
    "start_time": "2023-06-30T08:46:17.524Z"
   },
   {
    "duration": 249899,
    "start_time": "2023-06-30T08:46:19.795Z"
   },
   {
    "duration": 1703,
    "start_time": "2023-06-30T08:50:29.696Z"
   },
   {
    "duration": 18342,
    "start_time": "2023-06-30T08:50:31.401Z"
   },
   {
    "duration": 6,
    "start_time": "2023-06-30T08:50:49.746Z"
   },
   {
    "duration": 17,
    "start_time": "2023-06-30T08:50:49.754Z"
   },
   {
    "duration": 482,
    "start_time": "2023-06-30T08:50:49.773Z"
   },
   {
    "duration": 10,
    "start_time": "2023-06-30T09:50:35.292Z"
   },
   {
    "duration": 10,
    "start_time": "2023-06-30T09:51:25.895Z"
   },
   {
    "duration": 6,
    "start_time": "2023-06-30T11:21:55.772Z"
   },
   {
    "duration": 485,
    "start_time": "2023-06-30T11:21:58.301Z"
   },
   {
    "duration": 119,
    "start_time": "2023-06-30T11:22:00.775Z"
   },
   {
    "duration": 2,
    "start_time": "2023-06-30T11:22:53.301Z"
   },
   {
    "duration": 31,
    "start_time": "2023-06-30T11:22:53.306Z"
   },
   {
    "duration": 24,
    "start_time": "2023-06-30T11:22:53.339Z"
   },
   {
    "duration": 84,
    "start_time": "2023-06-30T11:22:53.365Z"
   },
   {
    "duration": 32,
    "start_time": "2023-06-30T11:22:53.452Z"
   },
   {
    "duration": 1120,
    "start_time": "2023-06-30T11:22:53.486Z"
   },
   {
    "duration": 29,
    "start_time": "2023-06-30T11:22:54.608Z"
   },
   {
    "duration": 10,
    "start_time": "2023-06-30T11:22:54.639Z"
   },
   {
    "duration": 21,
    "start_time": "2023-06-30T11:22:54.651Z"
   },
   {
    "duration": 3,
    "start_time": "2023-06-30T11:22:54.673Z"
   },
   {
    "duration": 18,
    "start_time": "2023-06-30T11:22:54.678Z"
   },
   {
    "duration": 66,
    "start_time": "2023-06-30T11:22:54.697Z"
   },
   {
    "duration": 868,
    "start_time": "2023-06-30T11:22:54.765Z"
   },
   {
    "duration": 3643,
    "start_time": "2023-06-30T11:22:55.640Z"
   },
   {
    "duration": 9,
    "start_time": "2023-06-30T11:22:59.285Z"
   },
   {
    "duration": 81,
    "start_time": "2023-06-30T11:22:59.296Z"
   },
   {
    "duration": 14,
    "start_time": "2023-06-30T11:22:59.379Z"
   },
   {
    "duration": 28,
    "start_time": "2023-06-30T11:22:59.395Z"
   },
   {
    "duration": 47,
    "start_time": "2023-06-30T11:22:59.425Z"
   },
   {
    "duration": 206,
    "start_time": "2023-06-30T11:22:59.474Z"
   },
   {
    "duration": 18,
    "start_time": "2023-06-30T11:22:59.682Z"
   },
   {
    "duration": 21,
    "start_time": "2023-06-30T11:22:59.714Z"
   },
   {
    "duration": 182,
    "start_time": "2023-06-30T11:22:59.738Z"
   },
   {
    "duration": 6060,
    "start_time": "2023-06-30T11:22:59.922Z"
   },
   {
    "duration": 785,
    "start_time": "2023-06-30T11:23:05.984Z"
   },
   {
    "duration": 98,
    "start_time": "2023-06-30T11:23:06.831Z"
   },
   {
    "duration": 19,
    "start_time": "2023-06-30T11:23:06.940Z"
   },
   {
    "duration": 500961,
    "start_time": "2023-06-30T11:23:06.961Z"
   },
   {
    "duration": 4071,
    "start_time": "2023-06-30T11:31:27.924Z"
   },
   {
    "duration": 193264,
    "start_time": "2023-06-30T11:31:31.997Z"
   },
   {
    "duration": 2442,
    "start_time": "2023-06-30T11:34:45.268Z"
   },
   {
    "duration": 292567,
    "start_time": "2023-06-30T11:34:47.718Z"
   },
   {
    "duration": 2122,
    "start_time": "2023-06-30T11:39:40.288Z"
   },
   {
    "duration": 21819,
    "start_time": "2023-06-30T11:39:42.422Z"
   },
   {
    "duration": 22,
    "start_time": "2023-06-30T11:40:04.250Z"
   },
   {
    "duration": 97,
    "start_time": "2023-06-30T11:40:04.279Z"
   },
   {
    "duration": 46,
    "start_time": "2023-06-30T11:40:04.378Z"
   },
   {
    "duration": 569,
    "start_time": "2023-06-30T11:40:04.429Z"
   },
   {
    "duration": 350,
    "start_time": "2023-06-30T11:40:04.999Z"
   },
   {
    "duration": 37,
    "start_time": "2023-06-30T11:42:29.357Z"
   },
   {
    "duration": 150,
    "start_time": "2023-06-30T11:43:01.221Z"
   },
   {
    "duration": 16,
    "start_time": "2023-06-30T11:56:40.958Z"
   },
   {
    "duration": 3433,
    "start_time": "2023-06-30T11:56:53.263Z"
   },
   {
    "duration": 30,
    "start_time": "2023-06-30T11:57:11.238Z"
   },
   {
    "duration": 6,
    "start_time": "2023-06-30T11:57:12.400Z"
   },
   {
    "duration": 71,
    "start_time": "2023-06-30T11:57:14.890Z"
   },
   {
    "duration": 35,
    "start_time": "2023-06-30T11:57:19.847Z"
   },
   {
    "duration": 1205,
    "start_time": "2023-06-30T11:57:33.495Z"
   },
   {
    "duration": 14,
    "start_time": "2023-06-30T11:57:36.260Z"
   },
   {
    "duration": 1332,
    "start_time": "2023-06-30T12:10:47.235Z"
   },
   {
    "duration": 10,
    "start_time": "2023-06-30T12:10:48.570Z"
   },
   {
    "duration": 8,
    "start_time": "2023-06-30T12:10:49.595Z"
   },
   {
    "duration": 31,
    "start_time": "2023-06-30T12:10:56.147Z"
   },
   {
    "duration": 18,
    "start_time": "2023-06-30T12:11:02.744Z"
   },
   {
    "duration": 14,
    "start_time": "2023-06-30T12:11:04.089Z"
   },
   {
    "duration": 41,
    "start_time": "2023-06-30T12:11:08.655Z"
   },
   {
    "duration": 1007,
    "start_time": "2023-06-30T12:11:09.800Z"
   },
   {
    "duration": 4328,
    "start_time": "2023-06-30T12:11:13.307Z"
   },
   {
    "duration": 13,
    "start_time": "2023-06-30T12:11:53.450Z"
   },
   {
    "duration": 7,
    "start_time": "2023-06-30T12:11:54.360Z"
   },
   {
    "duration": 6,
    "start_time": "2023-06-30T12:12:00.761Z"
   },
   {
    "duration": 1842,
    "start_time": "2023-06-30T12:12:09.502Z"
   },
   {
    "duration": 5,
    "start_time": "2023-06-30T12:18:35.810Z"
   },
   {
    "duration": 27,
    "start_time": "2023-06-30T12:18:35.818Z"
   },
   {
    "duration": 38,
    "start_time": "2023-06-30T12:18:35.847Z"
   },
   {
    "duration": 70,
    "start_time": "2023-06-30T12:18:35.887Z"
   },
   {
    "duration": 38,
    "start_time": "2023-06-30T12:18:35.958Z"
   },
   {
    "duration": 1404,
    "start_time": "2023-06-30T12:18:35.997Z"
   },
   {
    "duration": 8,
    "start_time": "2023-06-30T12:18:37.403Z"
   },
   {
    "duration": 20,
    "start_time": "2023-06-30T12:18:37.417Z"
   },
   {
    "duration": 30,
    "start_time": "2023-06-30T12:18:37.439Z"
   },
   {
    "duration": 3,
    "start_time": "2023-06-30T12:18:37.473Z"
   },
   {
    "duration": 16,
    "start_time": "2023-06-30T12:18:37.478Z"
   },
   {
    "duration": 69,
    "start_time": "2023-06-30T12:18:37.496Z"
   },
   {
    "duration": 818,
    "start_time": "2023-06-30T12:18:37.569Z"
   },
   {
    "duration": 4279,
    "start_time": "2023-06-30T12:18:38.389Z"
   },
   {
    "duration": 10,
    "start_time": "2023-06-30T12:18:42.670Z"
   },
   {
    "duration": 20,
    "start_time": "2023-06-30T12:18:42.682Z"
   },
   {
    "duration": 32,
    "start_time": "2023-06-30T12:18:42.704Z"
   },
   {
    "duration": 1833,
    "start_time": "2023-06-30T12:18:42.738Z"
   },
   {
    "duration": 65,
    "start_time": "2023-06-30T12:18:44.574Z"
   },
   {
    "duration": 198,
    "start_time": "2023-06-30T12:18:44.649Z"
   },
   {
    "duration": 20,
    "start_time": "2023-06-30T12:18:44.848Z"
   },
   {
    "duration": 28,
    "start_time": "2023-06-30T12:18:44.872Z"
   },
   {
    "duration": 194,
    "start_time": "2023-06-30T12:18:44.903Z"
   },
   {
    "duration": 6161,
    "start_time": "2023-06-30T12:18:45.099Z"
   },
   {
    "duration": 571,
    "start_time": "2023-06-30T12:18:51.264Z"
   },
   {
    "duration": 84,
    "start_time": "2023-06-30T12:18:51.837Z"
   },
   {
    "duration": 23,
    "start_time": "2023-06-30T12:18:51.923Z"
   },
   {
    "duration": 436397,
    "start_time": "2023-06-30T12:18:51.951Z"
   },
   {
    "duration": 3628,
    "start_time": "2023-06-30T12:26:08.358Z"
   },
   {
    "duration": 178308,
    "start_time": "2023-06-30T12:26:11.987Z"
   },
   {
    "duration": 2406,
    "start_time": "2023-06-30T12:29:10.297Z"
   },
   {
    "duration": 269536,
    "start_time": "2023-06-30T12:29:12.705Z"
   },
   {
    "duration": 1661,
    "start_time": "2023-06-30T12:33:42.243Z"
   },
   {
    "duration": 18166,
    "start_time": "2023-06-30T12:33:43.905Z"
   },
   {
    "duration": 4,
    "start_time": "2023-06-30T12:34:02.072Z"
   },
   {
    "duration": 20,
    "start_time": "2023-06-30T12:34:02.077Z"
   },
   {
    "duration": 36,
    "start_time": "2023-06-30T12:34:02.099Z"
   },
   {
    "duration": 493,
    "start_time": "2023-06-30T12:34:02.137Z"
   },
   {
    "duration": 321,
    "start_time": "2023-06-30T12:34:02.640Z"
   },
   {
    "duration": 152,
    "start_time": "2023-06-30T12:37:51.934Z"
   },
   {
    "duration": 5515,
    "start_time": "2023-06-30T12:37:57.450Z"
   },
   {
    "duration": 594,
    "start_time": "2023-06-30T12:38:08.850Z"
   },
   {
    "duration": 177,
    "start_time": "2023-06-30T12:38:29.082Z"
   },
   {
    "duration": 4,
    "start_time": "2023-06-30T12:40:51.353Z"
   },
   {
    "duration": 47,
    "start_time": "2023-06-30T12:40:53.097Z"
   },
   {
    "duration": 26,
    "start_time": "2023-06-30T12:40:57.591Z"
   },
   {
    "duration": 3,
    "start_time": "2023-06-30T12:49:27.155Z"
   },
   {
    "duration": 19,
    "start_time": "2023-06-30T12:49:27.160Z"
   },
   {
    "duration": 18,
    "start_time": "2023-06-30T12:49:27.182Z"
   },
   {
    "duration": 68,
    "start_time": "2023-06-30T12:49:27.203Z"
   },
   {
    "duration": 31,
    "start_time": "2023-06-30T12:49:27.273Z"
   },
   {
    "duration": 1543,
    "start_time": "2023-06-30T12:49:27.305Z"
   },
   {
    "duration": 9,
    "start_time": "2023-06-30T12:49:28.850Z"
   },
   {
    "duration": 11,
    "start_time": "2023-06-30T12:49:28.860Z"
   },
   {
    "duration": 52,
    "start_time": "2023-06-30T12:49:28.873Z"
   },
   {
    "duration": 3,
    "start_time": "2023-06-30T12:49:28.927Z"
   },
   {
    "duration": 30,
    "start_time": "2023-06-30T12:49:28.932Z"
   },
   {
    "duration": 39,
    "start_time": "2023-06-30T12:49:28.964Z"
   },
   {
    "duration": 951,
    "start_time": "2023-06-30T12:49:29.005Z"
   },
   {
    "duration": 3990,
    "start_time": "2023-06-30T12:49:29.958Z"
   },
   {
    "duration": 4,
    "start_time": "2023-06-30T12:49:33.949Z"
   },
   {
    "duration": 1461,
    "start_time": "2023-06-30T12:49:33.955Z"
   },
   {
    "duration": 23,
    "start_time": "2023-06-30T12:49:35.418Z"
   },
   {
    "duration": 171,
    "start_time": "2023-06-30T12:49:35.442Z"
   },
   {
    "duration": 13,
    "start_time": "2023-06-30T12:49:35.616Z"
   },
   {
    "duration": 19,
    "start_time": "2023-06-30T12:49:35.631Z"
   },
   {
    "duration": 144,
    "start_time": "2023-06-30T12:49:35.652Z"
   },
   {
    "duration": 5077,
    "start_time": "2023-06-30T12:49:35.798Z"
   },
   {
    "duration": 646,
    "start_time": "2023-06-30T12:49:40.876Z"
   },
   {
    "duration": 101,
    "start_time": "2023-06-30T12:49:41.614Z"
   },
   {
    "duration": 19,
    "start_time": "2023-06-30T12:49:41.717Z"
   },
   {
    "duration": 385163,
    "start_time": "2023-06-30T12:49:41.738Z"
   },
   {
    "duration": 3132,
    "start_time": "2023-06-30T12:56:06.904Z"
   },
   {
    "duration": 163230,
    "start_time": "2023-06-30T12:56:10.038Z"
   },
   {
    "duration": 2210,
    "start_time": "2023-06-30T12:58:53.270Z"
   },
   {
    "duration": 255315,
    "start_time": "2023-06-30T12:58:55.482Z"
   },
   {
    "duration": 1622,
    "start_time": "2023-06-30T13:03:10.798Z"
   },
   {
    "duration": 18004,
    "start_time": "2023-06-30T13:03:12.427Z"
   },
   {
    "duration": 3,
    "start_time": "2023-06-30T13:03:30.433Z"
   },
   {
    "duration": 37,
    "start_time": "2023-06-30T13:03:30.438Z"
   },
   {
    "duration": 71,
    "start_time": "2023-06-30T13:03:30.477Z"
   },
   {
    "duration": 480,
    "start_time": "2023-06-30T13:03:30.550Z"
   },
   {
    "duration": 340,
    "start_time": "2023-06-30T13:03:31.032Z"
   },
   {
    "duration": 3,
    "start_time": "2023-06-30T13:24:56.488Z"
   },
   {
    "duration": 30,
    "start_time": "2023-06-30T13:24:56.493Z"
   },
   {
    "duration": 25,
    "start_time": "2023-06-30T13:24:56.525Z"
   },
   {
    "duration": 59,
    "start_time": "2023-06-30T13:24:56.552Z"
   },
   {
    "duration": 28,
    "start_time": "2023-06-30T13:24:56.613Z"
   },
   {
    "duration": 1625,
    "start_time": "2023-06-30T13:24:56.642Z"
   },
   {
    "duration": 8,
    "start_time": "2023-06-30T13:24:58.269Z"
   },
   {
    "duration": 18,
    "start_time": "2023-06-30T13:24:58.279Z"
   },
   {
    "duration": 36,
    "start_time": "2023-06-30T13:24:58.298Z"
   },
   {
    "duration": 11,
    "start_time": "2023-06-30T13:24:58.337Z"
   },
   {
    "duration": 29,
    "start_time": "2023-06-30T13:24:58.349Z"
   },
   {
    "duration": 72,
    "start_time": "2023-06-30T13:24:58.380Z"
   },
   {
    "duration": 734,
    "start_time": "2023-06-30T13:24:58.454Z"
   },
   {
    "duration": 3867,
    "start_time": "2023-06-30T13:24:59.190Z"
   },
   {
    "duration": 5,
    "start_time": "2023-06-30T13:25:03.059Z"
   },
   {
    "duration": 1506,
    "start_time": "2023-06-30T13:25:03.066Z"
   },
   {
    "duration": 24,
    "start_time": "2023-06-30T13:25:04.574Z"
   },
   {
    "duration": 199,
    "start_time": "2023-06-30T13:25:04.600Z"
   },
   {
    "duration": 16,
    "start_time": "2023-06-30T13:25:04.801Z"
   },
   {
    "duration": 15,
    "start_time": "2023-06-30T13:25:04.819Z"
   },
   {
    "duration": 151,
    "start_time": "2023-06-30T13:25:04.835Z"
   },
   {
    "duration": 5084,
    "start_time": "2023-06-30T13:25:04.988Z"
   },
   {
    "duration": 648,
    "start_time": "2023-06-30T13:25:10.074Z"
   },
   {
    "duration": 102,
    "start_time": "2023-06-30T13:25:10.812Z"
   },
   {
    "duration": 5,
    "start_time": "2023-06-30T13:25:10.916Z"
   },
   {
    "duration": 4,
    "start_time": "2023-06-30T13:27:43.597Z"
   },
   {
    "duration": 1777,
    "start_time": "2023-06-30T13:27:43.603Z"
   },
   {
    "duration": 3,
    "start_time": "2023-06-30T13:27:45.382Z"
   },
   {
    "duration": 57,
    "start_time": "2023-06-30T13:27:45.386Z"
   },
   {
    "duration": 33,
    "start_time": "2023-06-30T13:27:45.445Z"
   },
   {
    "duration": 1178,
    "start_time": "2023-06-30T13:27:45.480Z"
   },
   {
    "duration": 9,
    "start_time": "2023-06-30T13:27:46.659Z"
   },
   {
    "duration": 35,
    "start_time": "2023-06-30T13:27:46.670Z"
   },
   {
    "duration": 34,
    "start_time": "2023-06-30T13:27:46.707Z"
   },
   {
    "duration": 3,
    "start_time": "2023-06-30T13:27:46.743Z"
   },
   {
    "duration": 24,
    "start_time": "2023-06-30T13:27:46.747Z"
   },
   {
    "duration": 43,
    "start_time": "2023-06-30T13:27:46.772Z"
   },
   {
    "duration": 783,
    "start_time": "2023-06-30T13:27:46.817Z"
   },
   {
    "duration": 3816,
    "start_time": "2023-06-30T13:27:47.603Z"
   },
   {
    "duration": 5,
    "start_time": "2023-06-30T13:27:51.421Z"
   },
   {
    "duration": 1491,
    "start_time": "2023-06-30T13:27:51.429Z"
   },
   {
    "duration": 26,
    "start_time": "2023-06-30T13:27:52.922Z"
   },
   {
    "duration": 189,
    "start_time": "2023-06-30T13:27:52.950Z"
   },
   {
    "duration": 12,
    "start_time": "2023-06-30T13:27:53.141Z"
   },
   {
    "duration": 14,
    "start_time": "2023-06-30T13:27:53.155Z"
   },
   {
    "duration": 148,
    "start_time": "2023-06-30T13:27:53.171Z"
   },
   {
    "duration": 4923,
    "start_time": "2023-06-30T13:27:53.321Z"
   },
   {
    "duration": 672,
    "start_time": "2023-06-30T13:27:58.245Z"
   },
   {
    "duration": 100,
    "start_time": "2023-06-30T13:27:58.919Z"
   },
   {
    "duration": 94,
    "start_time": "2023-06-30T13:27:59.021Z"
   },
   {
    "duration": 386485,
    "start_time": "2023-06-30T13:27:59.117Z"
   },
   {
    "duration": 3130,
    "start_time": "2023-06-30T13:34:25.603Z"
   },
   {
    "duration": 156863,
    "start_time": "2023-06-30T13:34:28.735Z"
   },
   {
    "duration": 1992,
    "start_time": "2023-06-30T13:37:05.600Z"
   },
   {
    "duration": 241322,
    "start_time": "2023-06-30T13:37:07.593Z"
   },
   {
    "duration": 1705,
    "start_time": "2023-06-30T13:41:08.917Z"
   },
   {
    "duration": 17060,
    "start_time": "2023-06-30T13:41:10.624Z"
   },
   {
    "duration": 2,
    "start_time": "2023-06-30T13:41:27.686Z"
   },
   {
    "duration": 23,
    "start_time": "2023-06-30T13:41:27.690Z"
   },
   {
    "duration": 10,
    "start_time": "2023-06-30T13:41:27.715Z"
   },
   {
    "duration": 404,
    "start_time": "2023-06-30T13:41:27.727Z"
   },
   {
    "duration": 331,
    "start_time": "2023-06-30T13:41:28.133Z"
   },
   {
    "duration": 3,
    "start_time": "2023-07-01T06:32:28.204Z"
   },
   {
    "duration": 486,
    "start_time": "2023-07-01T06:32:28.666Z"
   },
   {
    "duration": 3,
    "start_time": "2023-07-01T06:32:29.309Z"
   },
   {
    "duration": 9514,
    "start_time": "2023-07-01T06:32:41.292Z"
   },
   {
    "duration": 2047,
    "start_time": "2023-07-01T06:32:50.809Z"
   },
   {
    "duration": 4,
    "start_time": "2023-07-01T06:32:52.858Z"
   },
   {
    "duration": 89,
    "start_time": "2023-07-01T06:32:52.864Z"
   },
   {
    "duration": 30,
    "start_time": "2023-07-01T06:33:00.861Z"
   },
   {
    "duration": 1454,
    "start_time": "2023-07-01T06:33:02.662Z"
   },
   {
    "duration": 8,
    "start_time": "2023-07-01T06:34:01.940Z"
   },
   {
    "duration": 6,
    "start_time": "2023-07-01T06:34:02.298Z"
   },
   {
    "duration": 18,
    "start_time": "2023-07-01T06:34:02.510Z"
   },
   {
    "duration": 3,
    "start_time": "2023-07-01T06:34:05.855Z"
   },
   {
    "duration": 13,
    "start_time": "2023-07-01T06:34:06.228Z"
   },
   {
    "duration": 43,
    "start_time": "2023-07-01T06:34:35.199Z"
   },
   {
    "duration": 647,
    "start_time": "2023-07-01T06:34:35.396Z"
   },
   {
    "duration": 3510,
    "start_time": "2023-07-01T06:34:36.266Z"
   },
   {
    "duration": 3,
    "start_time": "2023-07-01T06:34:39.778Z"
   },
   {
    "duration": 38,
    "start_time": "2023-07-01T06:36:47.671Z"
   },
   {
    "duration": 4,
    "start_time": "2023-07-02T17:49:31.114Z"
   },
   {
    "duration": 2,
    "start_time": "2023-07-02T18:00:26.954Z"
   },
   {
    "duration": 696,
    "start_time": "2023-07-02T18:00:26.959Z"
   },
   {
    "duration": 0,
    "start_time": "2023-07-02T18:00:27.690Z"
   },
   {
    "duration": 0,
    "start_time": "2023-07-02T18:00:27.691Z"
   },
   {
    "duration": 0,
    "start_time": "2023-07-02T18:00:27.692Z"
   },
   {
    "duration": 0,
    "start_time": "2023-07-02T18:00:27.693Z"
   },
   {
    "duration": 0,
    "start_time": "2023-07-02T18:00:27.694Z"
   },
   {
    "duration": 0,
    "start_time": "2023-07-02T18:00:27.696Z"
   },
   {
    "duration": 0,
    "start_time": "2023-07-02T18:00:27.697Z"
   },
   {
    "duration": 0,
    "start_time": "2023-07-02T18:00:27.698Z"
   },
   {
    "duration": 0,
    "start_time": "2023-07-02T18:00:27.699Z"
   },
   {
    "duration": 0,
    "start_time": "2023-07-02T18:00:27.700Z"
   },
   {
    "duration": 0,
    "start_time": "2023-07-02T18:00:27.701Z"
   },
   {
    "duration": 0,
    "start_time": "2023-07-02T18:00:27.703Z"
   },
   {
    "duration": 0,
    "start_time": "2023-07-02T18:00:27.704Z"
   },
   {
    "duration": 0,
    "start_time": "2023-07-02T18:00:27.705Z"
   },
   {
    "duration": 0,
    "start_time": "2023-07-02T18:00:27.706Z"
   },
   {
    "duration": 0,
    "start_time": "2023-07-02T18:00:27.707Z"
   },
   {
    "duration": 0,
    "start_time": "2023-07-02T18:00:27.708Z"
   },
   {
    "duration": 0,
    "start_time": "2023-07-02T18:00:27.709Z"
   },
   {
    "duration": 0,
    "start_time": "2023-07-02T18:00:27.711Z"
   },
   {
    "duration": 0,
    "start_time": "2023-07-02T18:00:27.712Z"
   },
   {
    "duration": 0,
    "start_time": "2023-07-02T18:00:27.713Z"
   },
   {
    "duration": 0,
    "start_time": "2023-07-02T18:00:27.754Z"
   },
   {
    "duration": 0,
    "start_time": "2023-07-02T18:00:27.755Z"
   },
   {
    "duration": 0,
    "start_time": "2023-07-02T18:00:27.756Z"
   },
   {
    "duration": 0,
    "start_time": "2023-07-02T18:00:27.757Z"
   },
   {
    "duration": 0,
    "start_time": "2023-07-02T18:00:27.758Z"
   },
   {
    "duration": 0,
    "start_time": "2023-07-02T18:00:27.759Z"
   },
   {
    "duration": 0,
    "start_time": "2023-07-02T18:00:27.760Z"
   },
   {
    "duration": 0,
    "start_time": "2023-07-02T18:00:27.761Z"
   },
   {
    "duration": 0,
    "start_time": "2023-07-02T18:00:27.762Z"
   },
   {
    "duration": 0,
    "start_time": "2023-07-02T18:00:27.763Z"
   },
   {
    "duration": 0,
    "start_time": "2023-07-02T18:00:27.764Z"
   },
   {
    "duration": 0,
    "start_time": "2023-07-02T18:00:27.765Z"
   },
   {
    "duration": 0,
    "start_time": "2023-07-02T18:00:27.766Z"
   },
   {
    "duration": 0,
    "start_time": "2023-07-02T18:00:27.767Z"
   },
   {
    "duration": 0,
    "start_time": "2023-07-02T18:00:27.768Z"
   },
   {
    "duration": 0,
    "start_time": "2023-07-02T18:00:27.769Z"
   },
   {
    "duration": 0,
    "start_time": "2023-07-02T18:00:27.770Z"
   },
   {
    "duration": 0,
    "start_time": "2023-07-02T18:00:27.771Z"
   },
   {
    "duration": 10448,
    "start_time": "2023-07-02T18:00:55.063Z"
   },
   {
    "duration": 1270,
    "start_time": "2023-07-02T18:01:05.514Z"
   },
   {
    "duration": 3,
    "start_time": "2023-07-02T18:01:06.786Z"
   },
   {
    "duration": 95,
    "start_time": "2023-07-02T18:01:06.791Z"
   },
   {
    "duration": 35,
    "start_time": "2023-07-02T18:01:06.889Z"
   },
   {
    "duration": 1488,
    "start_time": "2023-07-02T18:01:06.925Z"
   },
   {
    "duration": 8,
    "start_time": "2023-07-02T18:01:08.415Z"
   },
   {
    "duration": 37,
    "start_time": "2023-07-02T18:01:08.424Z"
   },
   {
    "duration": 59,
    "start_time": "2023-07-02T18:01:08.463Z"
   },
   {
    "duration": 19,
    "start_time": "2023-07-02T18:01:08.524Z"
   },
   {
    "duration": 46,
    "start_time": "2023-07-02T18:01:08.545Z"
   },
   {
    "duration": 48,
    "start_time": "2023-07-02T18:01:08.593Z"
   },
   {
    "duration": 814,
    "start_time": "2023-07-02T18:01:08.643Z"
   },
   {
    "duration": 3943,
    "start_time": "2023-07-02T18:01:09.461Z"
   },
   {
    "duration": 5,
    "start_time": "2023-07-02T18:01:13.405Z"
   },
   {
    "duration": 1606,
    "start_time": "2023-07-02T18:01:13.411Z"
   },
   {
    "duration": 3,
    "start_time": "2023-07-02T18:01:15.019Z"
   },
   {
    "duration": 201,
    "start_time": "2023-07-02T18:01:15.023Z"
   },
   {
    "duration": 12,
    "start_time": "2023-07-02T18:01:15.225Z"
   },
   {
    "duration": 101,
    "start_time": "2023-07-02T18:01:15.239Z"
   },
   {
    "duration": 0,
    "start_time": "2023-07-02T18:01:15.342Z"
   },
   {
    "duration": 0,
    "start_time": "2023-07-02T18:01:15.343Z"
   },
   {
    "duration": 0,
    "start_time": "2023-07-02T18:01:15.345Z"
   },
   {
    "duration": 0,
    "start_time": "2023-07-02T18:01:15.346Z"
   },
   {
    "duration": 0,
    "start_time": "2023-07-02T18:01:15.347Z"
   },
   {
    "duration": 0,
    "start_time": "2023-07-02T18:01:15.348Z"
   },
   {
    "duration": 0,
    "start_time": "2023-07-02T18:01:15.348Z"
   },
   {
    "duration": 0,
    "start_time": "2023-07-02T18:01:15.349Z"
   },
   {
    "duration": 0,
    "start_time": "2023-07-02T18:01:15.353Z"
   },
   {
    "duration": 0,
    "start_time": "2023-07-02T18:01:15.354Z"
   },
   {
    "duration": 0,
    "start_time": "2023-07-02T18:01:15.355Z"
   },
   {
    "duration": 0,
    "start_time": "2023-07-02T18:01:15.356Z"
   },
   {
    "duration": 0,
    "start_time": "2023-07-02T18:01:15.357Z"
   },
   {
    "duration": 0,
    "start_time": "2023-07-02T18:01:15.357Z"
   },
   {
    "duration": 0,
    "start_time": "2023-07-02T18:01:15.358Z"
   },
   {
    "duration": 0,
    "start_time": "2023-07-02T18:01:15.360Z"
   },
   {
    "duration": 0,
    "start_time": "2023-07-02T18:01:15.361Z"
   },
   {
    "duration": 0,
    "start_time": "2023-07-02T18:01:15.361Z"
   },
   {
    "duration": 0,
    "start_time": "2023-07-02T18:01:15.363Z"
   },
   {
    "duration": 0,
    "start_time": "2023-07-02T18:01:15.364Z"
   },
   {
    "duration": 0,
    "start_time": "2023-07-02T18:01:15.365Z"
   },
   {
    "duration": 2,
    "start_time": "2023-07-02T18:03:16.141Z"
   },
   {
    "duration": 24,
    "start_time": "2023-07-02T18:03:16.145Z"
   },
   {
    "duration": 6,
    "start_time": "2023-07-02T18:03:16.171Z"
   },
   {
    "duration": 47,
    "start_time": "2023-07-02T18:03:16.179Z"
   },
   {
    "duration": 27,
    "start_time": "2023-07-02T18:03:16.227Z"
   },
   {
    "duration": 1308,
    "start_time": "2023-07-02T18:03:16.256Z"
   },
   {
    "duration": 10,
    "start_time": "2023-07-02T18:03:17.566Z"
   },
   {
    "duration": 26,
    "start_time": "2023-07-02T18:03:17.577Z"
   },
   {
    "duration": 18,
    "start_time": "2023-07-02T18:03:17.604Z"
   },
   {
    "duration": 2,
    "start_time": "2023-07-02T18:03:17.625Z"
   },
   {
    "duration": 25,
    "start_time": "2023-07-02T18:03:17.629Z"
   },
   {
    "duration": 56,
    "start_time": "2023-07-02T18:03:17.656Z"
   },
   {
    "duration": 745,
    "start_time": "2023-07-02T18:03:17.714Z"
   },
   {
    "duration": 3906,
    "start_time": "2023-07-02T18:03:18.460Z"
   },
   {
    "duration": 5,
    "start_time": "2023-07-02T18:03:22.368Z"
   },
   {
    "duration": 1498,
    "start_time": "2023-07-02T18:03:22.374Z"
   },
   {
    "duration": 3,
    "start_time": "2023-07-02T18:03:23.874Z"
   },
   {
    "duration": 168,
    "start_time": "2023-07-02T18:03:23.878Z"
   },
   {
    "duration": 16,
    "start_time": "2023-07-02T18:03:24.048Z"
   },
   {
    "duration": 38,
    "start_time": "2023-07-02T18:03:24.066Z"
   },
   {
    "duration": 191,
    "start_time": "2023-07-02T18:03:24.106Z"
   },
   {
    "duration": 1144,
    "start_time": "2023-07-02T18:03:24.299Z"
   },
   {
    "duration": 162,
    "start_time": "2023-07-02T18:03:25.445Z"
   },
   {
    "duration": 141556,
    "start_time": "2023-07-02T18:03:25.609Z"
   },
   {
    "duration": 2073,
    "start_time": "2023-07-02T18:05:47.167Z"
   },
   {
    "duration": 42424,
    "start_time": "2023-07-02T18:05:49.242Z"
   },
   {
    "duration": 1187,
    "start_time": "2023-07-02T18:06:31.668Z"
   },
   {
    "duration": 98,
    "start_time": "2023-07-02T18:06:32.860Z"
   },
   {
    "duration": 405584,
    "start_time": "2023-07-02T18:06:32.960Z"
   },
   {
    "duration": 5747,
    "start_time": "2023-07-02T18:13:18.546Z"
   },
   {
    "duration": 131840,
    "start_time": "2023-07-02T18:13:24.295Z"
   },
   {
    "duration": 1844,
    "start_time": "2023-07-02T18:15:36.136Z"
   },
   {
    "duration": 216619,
    "start_time": "2023-07-02T18:15:37.983Z"
   },
   {
    "duration": 1975,
    "start_time": "2023-07-02T18:19:14.604Z"
   },
   {
    "duration": 23389,
    "start_time": "2023-07-02T18:19:16.581Z"
   },
   {
    "duration": 3,
    "start_time": "2023-07-02T18:19:39.972Z"
   },
   {
    "duration": 23,
    "start_time": "2023-07-02T18:19:39.977Z"
   },
   {
    "duration": 74,
    "start_time": "2023-07-02T18:19:40.002Z"
   },
   {
    "duration": 39,
    "start_time": "2023-07-02T18:19:40.078Z"
   },
   {
    "duration": 616,
    "start_time": "2023-07-02T18:19:40.118Z"
   },
   {
    "duration": 351,
    "start_time": "2023-07-02T18:19:40.736Z"
   }
  ],
  "kernelspec": {
   "display_name": "Python 3 (ipykernel)",
   "language": "python",
   "name": "python3"
  },
  "language_info": {
   "codemirror_mode": {
    "name": "ipython",
    "version": 3
   },
   "file_extension": ".py",
   "mimetype": "text/x-python",
   "name": "python",
   "nbconvert_exporter": "python",
   "pygments_lexer": "ipython3",
   "version": "3.9.19"
  },
  "toc": {
   "base_numbering": 1,
   "nav_menu": {},
   "number_sections": true,
   "sideBar": true,
   "skip_h1_title": true,
   "title_cell": "Содержание",
   "title_sidebar": "Contents",
   "toc_cell": true,
   "toc_position": {},
   "toc_section_display": true,
   "toc_window_display": false
  }
 },
 "nbformat": 4,
 "nbformat_minor": 4
}
